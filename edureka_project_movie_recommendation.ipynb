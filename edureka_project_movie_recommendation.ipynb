{
 "cells": [
  {
   "cell_type": "markdown",
   "id": "9a24deaa",
   "metadata": {},
   "source": [
    "# Recommendation System"
   ]
  },
  {
   "cell_type": "markdown",
   "id": "fd2297e3",
   "metadata": {},
   "source": [
    "**PROBLEM STATEMENT**"
   ]
  },
  {
   "cell_type": "markdown",
   "id": "12692301",
   "metadata": {},
   "source": [
    "Over the past two decades, there has been a monumental shift in how people \n",
    "access and consume video content. With universal access to broadband\n",
    "internet, numerous platforms like YouTube, Netflix, HBO Go emerged and \n",
    "steadily grew to prominence.\n",
    "Although not a household name, OTT is the exact technology that made the \n",
    "streaming revolution possible.\n",
    "OTT stands for Over the Top, refers to any video streaming service delivering\n",
    "content to the users over the internet, however there are subscription charges\n",
    "associated with the usage of such platforms such as Prime Video, Netflix, Hot \n",
    "Start, Zee5, Sony Liv etc.\n",
    "But choosing your next movie to watch can still be a daunting task, even if you\n",
    "have access to all the platforms.\n",
    "“MyNextMovie” is a budding startup in the space of recommendations on top\n",
    "of various OTT platforms providing suggestions to its customer base regarding \n",
    "their next movie.\n",
    "Their major business is to create a recommendation layer on top of these OTT \n",
    "platforms so that they can make suitable recommendations to their customers,\n",
    "However,since they are in research mode right now, they would want to\n",
    "experiment with open source data first to understand the depth of the models\n",
    "which can be delivered by them.\n",
    "The data for this exercise is open-source data which has been collected and\n",
    "made available from the MovieLens web site (http://movielens.org), a part of\n",
    "GroupLens\n",
    "Research The data sets were collected over various periods of time, depending\n",
    "on the size of the set"
   ]
  },
  {
   "cell_type": "markdown",
   "id": "af526f3c",
   "metadata": {},
   "source": [
    "**OBJECTIVES**"
   ]
  },
  {
   "cell_type": "markdown",
   "id": "6704e6c4",
   "metadata": {},
   "source": [
    "1. Create a popularity based recommender system at a genre level. User will input a genre (g), minimum ratings threshold (t) for a movie and no. of recommendations(N) for which it should be recommended top N movies which are most popular within that genre (g) ordered by ratings in descending order where each movie has at least (t) reviews.\n",
    "2. Create a content-based recommender system which recommends top N movies based on similar movie(m) genres.\n",
    "3. Create a collaborative based recommender system which recommends top N movies based on “K” similar users for a target user “u”\n",
    "\n"
   ]
  },
  {
   "cell_type": "markdown",
   "id": "6fe19ec3",
   "metadata": {},
   "source": [
    "**DATA DESCRIPTION**"
   ]
  },
  {
   "cell_type": "markdown",
   "id": "46d10949",
   "metadata": {},
   "source": [
    "The data consists of 105339 ratings applied to over 10329 movies. The average\n",
    "rating is 3.5 and minimum and maximum rating is 0.5 and 5 respectively. There\n",
    "are 668 users who have given their ratings for 149532 movies.\n",
    "There are two data files which are provided:\n",
    "- **Movies.csv:**\n",
    "    - movieId: ID assigned to a movie.\n",
    "        title: Title of a movie\n",
    "        genres: pipe separated list of movie genres.\n",
    "- Ratings.csv\n",
    "    - userId: ID assigned to a user\n",
    "        movieId: ID assigned to a movie\n",
    "        rating: rating by a user to a movie\n",
    "        Timestamp: time at which the rating was provided."
   ]
  },
  {
   "cell_type": "markdown",
   "id": "c7d55a69",
   "metadata": {},
   "source": [
    "## Importing necessary packages"
   ]
  },
  {
   "cell_type": "code",
   "execution_count": 1,
   "id": "63bcb1f7",
   "metadata": {
    "ExecuteTime": {
     "end_time": "2024-08-25T08:19:02.606100Z",
     "start_time": "2024-08-25T08:18:49.735392Z"
    }
   },
   "outputs": [],
   "source": [
    "import pandas as pd\n",
    "import numpy as np\n",
    "import matplotlib.pyplot as plt\n",
    "import seaborn as sns\n",
    "from sklearn.neighbors import NearestNeighbors\n",
    "from scipy.sparse import csr_matrix\n",
    "\n",
    "import regex as re\n",
    "\n",
    "import warnings\n",
    "warnings.filterwarnings('ignore')\n",
    "sns.set_style('white')\n",
    "%matplotlib inline"
   ]
  },
  {
   "cell_type": "markdown",
   "id": "bf0e4188",
   "metadata": {},
   "source": [
    "## Loading the dataset"
   ]
  },
  {
   "cell_type": "code",
   "execution_count": 2,
   "id": "732b8baf",
   "metadata": {
    "ExecuteTime": {
     "end_time": "2024-08-25T08:19:07.896117Z",
     "start_time": "2024-08-25T08:19:07.759691Z"
    }
   },
   "outputs": [],
   "source": [
    "movies_df = pd.read_csv('movies_project.csv')\n",
    "ratings_df = pd.read_csv('ratings_project.csv')"
   ]
  },
  {
   "cell_type": "code",
   "execution_count": 3,
   "id": "f7eb2fc7",
   "metadata": {
    "ExecuteTime": {
     "end_time": "2024-08-25T08:19:16.347037Z",
     "start_time": "2024-08-25T08:19:16.320960Z"
    }
   },
   "outputs": [
    {
     "data": {
      "text/html": [
       "<div>\n",
       "<style scoped>\n",
       "    .dataframe tbody tr th:only-of-type {\n",
       "        vertical-align: middle;\n",
       "    }\n",
       "\n",
       "    .dataframe tbody tr th {\n",
       "        vertical-align: top;\n",
       "    }\n",
       "\n",
       "    .dataframe thead th {\n",
       "        text-align: right;\n",
       "    }\n",
       "</style>\n",
       "<table border=\"1\" class=\"dataframe\">\n",
       "  <thead>\n",
       "    <tr style=\"text-align: right;\">\n",
       "      <th></th>\n",
       "      <th>movieId</th>\n",
       "      <th>title</th>\n",
       "      <th>genres</th>\n",
       "    </tr>\n",
       "  </thead>\n",
       "  <tbody>\n",
       "    <tr>\n",
       "      <th>0</th>\n",
       "      <td>1</td>\n",
       "      <td>Toy Story (1995)</td>\n",
       "      <td>Adventure|Animation|Children|Comedy|Fantasy</td>\n",
       "    </tr>\n",
       "    <tr>\n",
       "      <th>1</th>\n",
       "      <td>2</td>\n",
       "      <td>Jumanji (1995)</td>\n",
       "      <td>Adventure|Children|Fantasy</td>\n",
       "    </tr>\n",
       "    <tr>\n",
       "      <th>2</th>\n",
       "      <td>3</td>\n",
       "      <td>Grumpier Old Men (1995)</td>\n",
       "      <td>Comedy|Romance</td>\n",
       "    </tr>\n",
       "    <tr>\n",
       "      <th>3</th>\n",
       "      <td>4</td>\n",
       "      <td>Waiting to Exhale (1995)</td>\n",
       "      <td>Comedy|Drama|Romance</td>\n",
       "    </tr>\n",
       "    <tr>\n",
       "      <th>4</th>\n",
       "      <td>5</td>\n",
       "      <td>Father of the Bride Part II (1995)</td>\n",
       "      <td>Comedy</td>\n",
       "    </tr>\n",
       "  </tbody>\n",
       "</table>\n",
       "</div>"
      ],
      "text/plain": [
       "   movieId                               title  \\\n",
       "0        1                    Toy Story (1995)   \n",
       "1        2                      Jumanji (1995)   \n",
       "2        3             Grumpier Old Men (1995)   \n",
       "3        4            Waiting to Exhale (1995)   \n",
       "4        5  Father of the Bride Part II (1995)   \n",
       "\n",
       "                                        genres  \n",
       "0  Adventure|Animation|Children|Comedy|Fantasy  \n",
       "1                   Adventure|Children|Fantasy  \n",
       "2                               Comedy|Romance  \n",
       "3                         Comedy|Drama|Romance  \n",
       "4                                       Comedy  "
      ]
     },
     "execution_count": 3,
     "metadata": {},
     "output_type": "execute_result"
    }
   ],
   "source": [
    "movies_df.head()"
   ]
  },
  {
   "cell_type": "code",
   "execution_count": 4,
   "id": "cfea8bf4",
   "metadata": {
    "ExecuteTime": {
     "end_time": "2024-08-25T08:19:17.614708Z",
     "start_time": "2024-08-25T08:19:17.598910Z"
    }
   },
   "outputs": [
    {
     "data": {
      "text/html": [
       "<div>\n",
       "<style scoped>\n",
       "    .dataframe tbody tr th:only-of-type {\n",
       "        vertical-align: middle;\n",
       "    }\n",
       "\n",
       "    .dataframe tbody tr th {\n",
       "        vertical-align: top;\n",
       "    }\n",
       "\n",
       "    .dataframe thead th {\n",
       "        text-align: right;\n",
       "    }\n",
       "</style>\n",
       "<table border=\"1\" class=\"dataframe\">\n",
       "  <thead>\n",
       "    <tr style=\"text-align: right;\">\n",
       "      <th></th>\n",
       "      <th>userId</th>\n",
       "      <th>movieId</th>\n",
       "      <th>rating</th>\n",
       "      <th>timestamp</th>\n",
       "    </tr>\n",
       "  </thead>\n",
       "  <tbody>\n",
       "    <tr>\n",
       "      <th>0</th>\n",
       "      <td>1</td>\n",
       "      <td>16</td>\n",
       "      <td>4.0</td>\n",
       "      <td>1217897793</td>\n",
       "    </tr>\n",
       "    <tr>\n",
       "      <th>1</th>\n",
       "      <td>1</td>\n",
       "      <td>24</td>\n",
       "      <td>1.5</td>\n",
       "      <td>1217895807</td>\n",
       "    </tr>\n",
       "    <tr>\n",
       "      <th>2</th>\n",
       "      <td>1</td>\n",
       "      <td>32</td>\n",
       "      <td>4.0</td>\n",
       "      <td>1217896246</td>\n",
       "    </tr>\n",
       "    <tr>\n",
       "      <th>3</th>\n",
       "      <td>1</td>\n",
       "      <td>47</td>\n",
       "      <td>4.0</td>\n",
       "      <td>1217896556</td>\n",
       "    </tr>\n",
       "    <tr>\n",
       "      <th>4</th>\n",
       "      <td>1</td>\n",
       "      <td>50</td>\n",
       "      <td>4.0</td>\n",
       "      <td>1217896523</td>\n",
       "    </tr>\n",
       "  </tbody>\n",
       "</table>\n",
       "</div>"
      ],
      "text/plain": [
       "   userId  movieId  rating   timestamp\n",
       "0       1       16     4.0  1217897793\n",
       "1       1       24     1.5  1217895807\n",
       "2       1       32     4.0  1217896246\n",
       "3       1       47     4.0  1217896556\n",
       "4       1       50     4.0  1217896523"
      ]
     },
     "execution_count": 4,
     "metadata": {},
     "output_type": "execute_result"
    }
   ],
   "source": [
    "ratings_df.head()"
   ]
  },
  {
   "cell_type": "markdown",
   "id": "12318801",
   "metadata": {},
   "source": [
    "## Data Exploration"
   ]
  },
  {
   "cell_type": "code",
   "execution_count": 5,
   "id": "c9a407d5",
   "metadata": {
    "ExecuteTime": {
     "end_time": "2024-08-25T08:19:39.999968Z",
     "start_time": "2024-08-25T08:19:39.982972Z"
    }
   },
   "outputs": [
    {
     "name": "stdout",
     "output_type": "stream",
     "text": [
      "Number of ratings:, 105339\n",
      "Number of unique users: 668\n",
      "Number of unique movies: 10329\n",
      "Average number of rating per user: 157.69\n",
      "Average number of rating per movie: 10.2\n",
      "The total unique rating: 10\n",
      "Unique Ratings: [0.5, 1.0, 1.5, 2.0, 2.5, 3.0, 3.5, 4.0, 4.5, 5.0]\n"
     ]
    }
   ],
   "source": [
    "# total ratings\n",
    "n_ratings = len(ratings_df)\n",
    "\n",
    "# number of unique movies\n",
    "n_movies = movies_df.movieId.nunique()\n",
    "\n",
    "# number of unique users \n",
    "n_users = ratings_df.userId.nunique()\n",
    "\n",
    "# average rating per user\n",
    "avg_rating_per_user = round(n_ratings / n_users, 2)\n",
    "\n",
    "# average rating per movie\n",
    "avg_rating_per_movie = round(n_ratings / n_movies, 2)\n",
    "unique_ratings = sorted(ratings_df.rating.unique())\n",
    "\n",
    "print(f\"Number of ratings:, {n_ratings}\")\n",
    "print(f\"Number of unique users: {n_users}\")\n",
    "print(f'Number of unique movies: {n_movies}')\n",
    "print(f\"Average number of rating per user: {avg_rating_per_user}\")\n",
    "print(f'Average number of rating per movie: {avg_rating_per_movie}')\n",
    "print(f\"The total unique rating: {ratings_df.rating.nunique()}\")\n",
    "print(f\"Unique Ratings: {unique_ratings}\")"
   ]
  },
  {
   "cell_type": "code",
   "execution_count": 6,
   "id": "2e31c35f",
   "metadata": {
    "ExecuteTime": {
     "end_time": "2024-08-25T08:20:25.784294Z",
     "start_time": "2024-08-25T08:20:25.777384Z"
    }
   },
   "outputs": [
    {
     "name": "stdout",
     "output_type": "stream",
     "text": [
      "shape of movie dataset: (10329, 3)\n",
      "shape of ratings dataset: (105339, 4)\n"
     ]
    }
   ],
   "source": [
    "print('shape of movie dataset:', movies_df.shape)\n",
    "print('shape of ratings dataset:', ratings_df.shape)"
   ]
  },
  {
   "cell_type": "markdown",
   "id": "d781c46e",
   "metadata": {},
   "source": [
    "## checking for missing values and duplicates"
   ]
  },
  {
   "cell_type": "code",
   "execution_count": 7,
   "id": "bbd20314",
   "metadata": {
    "ExecuteTime": {
     "end_time": "2024-08-25T08:20:35.642941Z",
     "start_time": "2024-08-25T08:20:35.626360Z"
    }
   },
   "outputs": [
    {
     "data": {
      "text/plain": [
       "movieId    0\n",
       "title      0\n",
       "genres     0\n",
       "dtype: int64"
      ]
     },
     "execution_count": 7,
     "metadata": {},
     "output_type": "execute_result"
    }
   ],
   "source": [
    "\n",
    "movies_df.isna().sum()"
   ]
  },
  {
   "cell_type": "code",
   "execution_count": 8,
   "id": "45030d0b",
   "metadata": {
    "ExecuteTime": {
     "end_time": "2024-08-25T08:20:40.133235Z",
     "start_time": "2024-08-25T08:20:40.122907Z"
    }
   },
   "outputs": [
    {
     "data": {
      "text/plain": [
       "userId       0\n",
       "movieId      0\n",
       "rating       0\n",
       "timestamp    0\n",
       "dtype: int64"
      ]
     },
     "execution_count": 8,
     "metadata": {},
     "output_type": "execute_result"
    }
   ],
   "source": [
    "ratings_df.isna().sum()"
   ]
  },
  {
   "cell_type": "code",
   "execution_count": 9,
   "id": "8f5a59cc",
   "metadata": {
    "ExecuteTime": {
     "end_time": "2024-08-25T08:20:45.330318Z",
     "start_time": "2024-08-25T08:20:45.312819Z"
    }
   },
   "outputs": [
    {
     "data": {
      "text/plain": [
       "0"
      ]
     },
     "execution_count": 9,
     "metadata": {},
     "output_type": "execute_result"
    }
   ],
   "source": [
    "movies_df.duplicated(subset=['movieId', 'title']).sum()"
   ]
  },
  {
   "cell_type": "code",
   "execution_count": 10,
   "id": "bdfd1ef1",
   "metadata": {
    "ExecuteTime": {
     "end_time": "2024-08-25T08:20:51.628017Z",
     "start_time": "2024-08-25T08:20:51.600415Z"
    }
   },
   "outputs": [
    {
     "data": {
      "text/plain": [
       "0"
      ]
     },
     "execution_count": 10,
     "metadata": {},
     "output_type": "execute_result"
    }
   ],
   "source": [
    "ratings_df.duplicated(subset=['userId', 'movieId', 'rating']).sum()"
   ]
  },
  {
   "cell_type": "markdown",
   "id": "8d56d639",
   "metadata": {},
   "source": [
    "There are no missing values nor duplicated rows in both datasets"
   ]
  },
  {
   "cell_type": "code",
   "execution_count": 11,
   "id": "cfc26079",
   "metadata": {
    "ExecuteTime": {
     "end_time": "2024-08-25T08:20:54.055782Z",
     "start_time": "2024-08-25T08:20:54.034659Z"
    }
   },
   "outputs": [],
   "source": [
    "count_ratings = ratings_df.groupby('movieId')['rating'].aggregate(['mean', 'count'])\n",
    "count_ratings.reset_index(inplace=True)\n",
    "count_ratings.columns = ['movieId', 'mean_rating', 'num_of_ratings']"
   ]
  },
  {
   "cell_type": "code",
   "execution_count": 12,
   "id": "f64aeb2f",
   "metadata": {
    "ExecuteTime": {
     "end_time": "2024-08-25T08:20:59.050242Z",
     "start_time": "2024-08-25T08:20:59.036632Z"
    }
   },
   "outputs": [
    {
     "data": {
      "text/html": [
       "<div>\n",
       "<style scoped>\n",
       "    .dataframe tbody tr th:only-of-type {\n",
       "        vertical-align: middle;\n",
       "    }\n",
       "\n",
       "    .dataframe tbody tr th {\n",
       "        vertical-align: top;\n",
       "    }\n",
       "\n",
       "    .dataframe thead th {\n",
       "        text-align: right;\n",
       "    }\n",
       "</style>\n",
       "<table border=\"1\" class=\"dataframe\">\n",
       "  <thead>\n",
       "    <tr style=\"text-align: right;\">\n",
       "      <th></th>\n",
       "      <th>movieId</th>\n",
       "      <th>mean_rating</th>\n",
       "      <th>num_of_ratings</th>\n",
       "    </tr>\n",
       "  </thead>\n",
       "  <tbody>\n",
       "    <tr>\n",
       "      <th>0</th>\n",
       "      <td>1</td>\n",
       "      <td>3.907328</td>\n",
       "      <td>232</td>\n",
       "    </tr>\n",
       "    <tr>\n",
       "      <th>1</th>\n",
       "      <td>2</td>\n",
       "      <td>3.353261</td>\n",
       "      <td>92</td>\n",
       "    </tr>\n",
       "    <tr>\n",
       "      <th>2</th>\n",
       "      <td>3</td>\n",
       "      <td>3.189655</td>\n",
       "      <td>58</td>\n",
       "    </tr>\n",
       "    <tr>\n",
       "      <th>3</th>\n",
       "      <td>4</td>\n",
       "      <td>2.818182</td>\n",
       "      <td>11</td>\n",
       "    </tr>\n",
       "    <tr>\n",
       "      <th>4</th>\n",
       "      <td>5</td>\n",
       "      <td>3.250000</td>\n",
       "      <td>62</td>\n",
       "    </tr>\n",
       "    <tr>\n",
       "      <th>...</th>\n",
       "      <td>...</td>\n",
       "      <td>...</td>\n",
       "      <td>...</td>\n",
       "    </tr>\n",
       "    <tr>\n",
       "      <th>10320</th>\n",
       "      <td>146684</td>\n",
       "      <td>4.000000</td>\n",
       "      <td>1</td>\n",
       "    </tr>\n",
       "    <tr>\n",
       "      <th>10321</th>\n",
       "      <td>146878</td>\n",
       "      <td>2.500000</td>\n",
       "      <td>1</td>\n",
       "    </tr>\n",
       "    <tr>\n",
       "      <th>10322</th>\n",
       "      <td>148238</td>\n",
       "      <td>3.000000</td>\n",
       "      <td>1</td>\n",
       "    </tr>\n",
       "    <tr>\n",
       "      <th>10323</th>\n",
       "      <td>148626</td>\n",
       "      <td>4.333333</td>\n",
       "      <td>3</td>\n",
       "    </tr>\n",
       "    <tr>\n",
       "      <th>10324</th>\n",
       "      <td>149532</td>\n",
       "      <td>4.000000</td>\n",
       "      <td>1</td>\n",
       "    </tr>\n",
       "  </tbody>\n",
       "</table>\n",
       "<p>10325 rows × 3 columns</p>\n",
       "</div>"
      ],
      "text/plain": [
       "       movieId  mean_rating  num_of_ratings\n",
       "0            1     3.907328             232\n",
       "1            2     3.353261              92\n",
       "2            3     3.189655              58\n",
       "3            4     2.818182              11\n",
       "4            5     3.250000              62\n",
       "...        ...          ...             ...\n",
       "10320   146684     4.000000               1\n",
       "10321   146878     2.500000               1\n",
       "10322   148238     3.000000               1\n",
       "10323   148626     4.333333               3\n",
       "10324   149532     4.000000               1\n",
       "\n",
       "[10325 rows x 3 columns]"
      ]
     },
     "execution_count": 12,
     "metadata": {},
     "output_type": "execute_result"
    }
   ],
   "source": [
    "count_ratings"
   ]
  },
  {
   "cell_type": "code",
   "execution_count": 13,
   "id": "cbb2305e",
   "metadata": {
    "ExecuteTime": {
     "end_time": "2024-08-25T08:21:23.494795Z",
     "start_time": "2024-08-25T08:21:22.729203Z"
    }
   },
   "outputs": [
    {
     "data": {
      "image/png": "[encoded data removed]",
      "text/plain": [
       "<Figure size 640x480 with 1 Axes>"
      ]
     },
     "metadata": {},
     "output_type": "display_data"
    }
   ],
   "source": [
    "# The distribution of the mean_rating per movie\n",
    "plt.hist(count_ratings['mean_rating'], bins=40)\n",
    "plt.title('Distribution of Ratings per Movie', fontsize=18)\n",
    "plt.show()"
   ]
  },
  {
   "cell_type": "code",
   "execution_count": 14,
   "id": "1f077e9a",
   "metadata": {
    "ExecuteTime": {
     "end_time": "2024-08-25T08:21:57.383859Z",
     "start_time": "2024-08-25T08:21:56.818786Z"
    }
   },
   "outputs": [
    {
     "data": {
      "image/png": "[encoded data removed]",
      "text/plain": [
       "<Figure size 640x480 with 1 Axes>"
      ]
     },
     "metadata": {},
     "output_type": "display_data"
    }
   ],
   "source": [
    "# The distribution of number ratings per movie\n",
    "plt.hist(count_ratings.num_of_ratings, bins=50)\n",
    "plt.title('Distribution of num_of_ratings per Movie', weight='bold')\n",
    "plt.show()"
   ]
  },
  {
   "cell_type": "code",
   "execution_count": 15,
   "id": "afdde724",
   "metadata": {
    "ExecuteTime": {
     "end_time": "2024-08-25T08:22:03.033000Z",
     "start_time": "2024-08-25T08:22:00.798208Z"
    }
   },
   "outputs": [
    {
     "data": {
      "text/plain": [
       "<Figure size 1000x1000 with 0 Axes>"
      ]
     },
     "metadata": {},
     "output_type": "display_data"
    },
    {
     "data": {
      "image/png": "[encoded data removed]",
      "text/plain": [
       "<Figure size 600x600 with 3 Axes>"
      ]
     },
     "metadata": {},
     "output_type": "display_data"
    }
   ],
   "source": [
    "plt.figure(figsize=(10,10))\n",
    "sns.jointplot(data=count_ratings, x='mean_rating', y='num_of_ratings')\n",
    "plt.show()"
   ]
  },
  {
   "cell_type": "markdown",
   "id": "2e722220",
   "metadata": {},
   "source": [
    "From the above chart, so many movies has low number of times they have been rated by users, but only few movies have been rated many times by many users. Ratings ranges from 0 to 5 ratings."
   ]
  },
  {
   "cell_type": "code",
   "execution_count": 16,
   "id": "3850b2c6",
   "metadata": {
    "ExecuteTime": {
     "end_time": "2024-08-25T08:22:22.890749Z",
     "start_time": "2024-08-25T08:22:22.861124Z"
    }
   },
   "outputs": [
    {
     "data": {
      "text/plain": [
       "Drama                 5220\n",
       "Comedy                3515\n",
       "Thriller              2187\n",
       "Romance               1788\n",
       "Action                1737\n",
       "Crime                 1440\n",
       "Adventure             1164\n",
       "Horror                1001\n",
       "Sci-Fi                 860\n",
       "Mystery                675\n",
       "Fantasy                670\n",
       "Children               540\n",
       "War                    503\n",
       "Documentary            415\n",
       "Musical                409\n",
       "Animation              401\n",
       "Western                235\n",
       "Film-Noir              195\n",
       "IMAX                   152\n",
       "(no genres listed)       7\n",
       "dtype: int64"
      ]
     },
     "execution_count": 16,
     "metadata": {},
     "output_type": "execute_result"
    }
   ],
   "source": [
    "from collections import Counter\n",
    "genre = movies_df.genres.str.split('|')\n",
    "genres = [g for i in genre for g in i]\n",
    "genres = pd.Series(Counter(genres))\n",
    "genres.sort_values(ascending=False)"
   ]
  },
  {
   "cell_type": "markdown",
   "id": "8a1663c2",
   "metadata": {},
   "source": [
    "Drama is the most common genre in the movie dataset and the total genre in the movie dataset is 20"
   ]
  },
  {
   "cell_type": "code",
   "execution_count": 17,
   "id": "19db5875",
   "metadata": {
    "ExecuteTime": {
     "end_time": "2024-08-25T08:22:27.665865Z",
     "start_time": "2024-08-25T08:22:27.657201Z"
    }
   },
   "outputs": [
    {
     "name": "stdout",
     "output_type": "stream",
     "text": [
      "Total genres in the movie dataset are:  20\n"
     ]
    }
   ],
   "source": [
    "print('Total genres in the movie dataset are: ', len(genres))"
   ]
  },
  {
   "cell_type": "code",
   "execution_count": 18,
   "id": "95d49c39",
   "metadata": {
    "ExecuteTime": {
     "end_time": "2024-08-25T08:22:29.726863Z",
     "start_time": "2024-08-25T08:22:28.634971Z"
    }
   },
   "outputs": [
    {
     "data": {
      "image/png": "[encoded data removed]",
      "text/plain": [
       "<Figure size 1000x600 with 1 Axes>"
      ]
     },
     "metadata": {},
     "output_type": "display_data"
    }
   ],
   "source": [
    "plt.figure(figsize=(10, 6))\n",
    "sns.barplot(x=genres.index, y=genres.values, palette='Greens')\n",
    "plt.xlabel('Genres', fontsize=18, weight='bold')\n",
    "plt.title('Movie Genres', fontsize=20, weight='bold')\n",
    "plt.xticks(rotation=90)\n",
    "plt.show()"
   ]
  },
  {
   "cell_type": "code",
   "execution_count": 19,
   "id": "d4e11716",
   "metadata": {
    "ExecuteTime": {
     "end_time": "2024-08-25T08:22:42.628167Z",
     "start_time": "2024-08-25T08:22:42.605886Z"
    }
   },
   "outputs": [
    {
     "data": {
      "text/html": [
       "<div>\n",
       "<style scoped>\n",
       "    .dataframe tbody tr th:only-of-type {\n",
       "        vertical-align: middle;\n",
       "    }\n",
       "\n",
       "    .dataframe tbody tr th {\n",
       "        vertical-align: top;\n",
       "    }\n",
       "\n",
       "    .dataframe thead th {\n",
       "        text-align: right;\n",
       "    }\n",
       "</style>\n",
       "<table border=\"1\" class=\"dataframe\">\n",
       "  <thead>\n",
       "    <tr style=\"text-align: right;\">\n",
       "      <th></th>\n",
       "      <th>movieId</th>\n",
       "      <th>mean_rating</th>\n",
       "      <th>num_of_ratings</th>\n",
       "      <th>title</th>\n",
       "      <th>genres</th>\n",
       "    </tr>\n",
       "  </thead>\n",
       "  <tbody>\n",
       "    <tr>\n",
       "      <th>0</th>\n",
       "      <td>296</td>\n",
       "      <td>4.160000</td>\n",
       "      <td>325</td>\n",
       "      <td>Pulp Fiction (1994)</td>\n",
       "      <td>Comedy|Crime|Drama|Thriller</td>\n",
       "    </tr>\n",
       "    <tr>\n",
       "      <th>1</th>\n",
       "      <td>356</td>\n",
       "      <td>4.138264</td>\n",
       "      <td>311</td>\n",
       "      <td>Forrest Gump (1994)</td>\n",
       "      <td>Comedy|Drama|Romance|War</td>\n",
       "    </tr>\n",
       "    <tr>\n",
       "      <th>2</th>\n",
       "      <td>318</td>\n",
       "      <td>4.454545</td>\n",
       "      <td>308</td>\n",
       "      <td>Shawshank Redemption, The (1994)</td>\n",
       "      <td>Crime|Drama</td>\n",
       "    </tr>\n",
       "    <tr>\n",
       "      <th>3</th>\n",
       "      <td>480</td>\n",
       "      <td>3.659864</td>\n",
       "      <td>294</td>\n",
       "      <td>Jurassic Park (1993)</td>\n",
       "      <td>Action|Adventure|Sci-Fi|Thriller</td>\n",
       "    </tr>\n",
       "    <tr>\n",
       "      <th>4</th>\n",
       "      <td>593</td>\n",
       "      <td>4.194828</td>\n",
       "      <td>290</td>\n",
       "      <td>Silence of the Lambs, The (1991)</td>\n",
       "      <td>Crime|Horror|Thriller</td>\n",
       "    </tr>\n",
       "  </tbody>\n",
       "</table>\n",
       "</div>"
      ],
      "text/plain": [
       "   movieId  mean_rating  num_of_ratings                             title  \\\n",
       "0      296     4.160000             325               Pulp Fiction (1994)   \n",
       "1      356     4.138264             311               Forrest Gump (1994)   \n",
       "2      318     4.454545             308  Shawshank Redemption, The (1994)   \n",
       "3      480     3.659864             294              Jurassic Park (1993)   \n",
       "4      593     4.194828             290  Silence of the Lambs, The (1991)   \n",
       "\n",
       "                             genres  \n",
       "0       Comedy|Crime|Drama|Thriller  \n",
       "1          Comedy|Drama|Romance|War  \n",
       "2                       Crime|Drama  \n",
       "3  Action|Adventure|Sci-Fi|Thriller  \n",
       "4             Crime|Horror|Thriller  "
      ]
     },
     "execution_count": 19,
     "metadata": {},
     "output_type": "execute_result"
    }
   ],
   "source": [
    "# movie with the highest number of ratng \n",
    "count_ratings.sort_values('num_of_ratings', ascending=False).merge(movies_df, on='movieId').head()"
   ]
  },
  {
   "cell_type": "code",
   "execution_count": 20,
   "id": "e7ec16a2",
   "metadata": {
    "ExecuteTime": {
     "end_time": "2024-08-25T08:24:29.052994Z",
     "start_time": "2024-08-25T08:24:29.029824Z"
    }
   },
   "outputs": [
    {
     "data": {
      "text/html": [
       "<div>\n",
       "<style scoped>\n",
       "    .dataframe tbody tr th:only-of-type {\n",
       "        vertical-align: middle;\n",
       "    }\n",
       "\n",
       "    .dataframe tbody tr th {\n",
       "        vertical-align: top;\n",
       "    }\n",
       "\n",
       "    .dataframe thead th {\n",
       "        text-align: right;\n",
       "    }\n",
       "</style>\n",
       "<table border=\"1\" class=\"dataframe\">\n",
       "  <thead>\n",
       "    <tr style=\"text-align: right;\">\n",
       "      <th></th>\n",
       "      <th>movieId</th>\n",
       "      <th>mean_rating</th>\n",
       "      <th>num_of_ratings</th>\n",
       "      <th>title</th>\n",
       "      <th>genres</th>\n",
       "    </tr>\n",
       "  </thead>\n",
       "  <tbody>\n",
       "    <tr>\n",
       "      <th>0</th>\n",
       "      <td>465</td>\n",
       "      <td>5.0</td>\n",
       "      <td>1</td>\n",
       "      <td>Heaven &amp; Earth (1993)</td>\n",
       "      <td>Action|Drama|War</td>\n",
       "    </tr>\n",
       "    <tr>\n",
       "      <th>1</th>\n",
       "      <td>111387</td>\n",
       "      <td>5.0</td>\n",
       "      <td>1</td>\n",
       "      <td>Palo Alto (2013)</td>\n",
       "      <td>Drama</td>\n",
       "    </tr>\n",
       "    <tr>\n",
       "      <th>2</th>\n",
       "      <td>1757</td>\n",
       "      <td>5.0</td>\n",
       "      <td>1</td>\n",
       "      <td>Fallen Angels (Duo luo tian shi) (1995)</td>\n",
       "      <td>Drama|Romance</td>\n",
       "    </tr>\n",
       "    <tr>\n",
       "      <th>3</th>\n",
       "      <td>5003</td>\n",
       "      <td>5.0</td>\n",
       "      <td>1</td>\n",
       "      <td>Nine Lives of Fritz the Cat, The (1974)</td>\n",
       "      <td>Animation</td>\n",
       "    </tr>\n",
       "    <tr>\n",
       "      <th>4</th>\n",
       "      <td>5007</td>\n",
       "      <td>5.0</td>\n",
       "      <td>1</td>\n",
       "      <td>Topkapi (1964)</td>\n",
       "      <td>Adventure|Comedy|Thriller</td>\n",
       "    </tr>\n",
       "  </tbody>\n",
       "</table>\n",
       "</div>"
      ],
      "text/plain": [
       "   movieId  mean_rating  num_of_ratings  \\\n",
       "0      465          5.0               1   \n",
       "1   111387          5.0               1   \n",
       "2     1757          5.0               1   \n",
       "3     5003          5.0               1   \n",
       "4     5007          5.0               1   \n",
       "\n",
       "                                     title                     genres  \n",
       "0                    Heaven & Earth (1993)           Action|Drama|War  \n",
       "1                         Palo Alto (2013)                      Drama  \n",
       "2  Fallen Angels (Duo luo tian shi) (1995)              Drama|Romance  \n",
       "3  Nine Lives of Fritz the Cat, The (1974)                  Animation  \n",
       "4                           Topkapi (1964)  Adventure|Comedy|Thriller  "
      ]
     },
     "execution_count": 20,
     "metadata": {},
     "output_type": "execute_result"
    }
   ],
   "source": [
    "# movies with the highest average rating\n",
    "count_ratings.sort_values('mean_rating', ascending=False).merge(movies_df, on='movieId').head()"
   ]
  },
  {
   "cell_type": "markdown",
   "id": "78c0703d",
   "metadata": {},
   "source": [
    "Notice how the highest rated movies have only been rated once. This is not fair on the averaging"
   ]
  },
  {
   "cell_type": "markdown",
   "id": "576858e0",
   "metadata": {},
   "source": [
    "WE will use a better approach for averaging all the ratings per movies in our dataset"
   ]
  },
  {
   "cell_type": "markdown",
   "id": "e060dea2",
   "metadata": {},
   "source": [
    "**Bayesian Average:**\n",
    "\n",
    "The Bayesian average is defined as:\n",
    "- bayesian_Avg = $\\frac {C \\times m + \\sum reviews} {C + N}$"
   ]
  },
  {
   "cell_type": "markdown",
   "id": "51e38f7d",
   "metadata": {},
   "source": [
    "Where:\n",
    "- C is the average rating per movie\n",
    "- N is the total number of reviews for a movie i\n",
    "- m is the average rating across all movies"
   ]
  },
  {
   "cell_type": "code",
   "execution_count": 21,
   "id": "0fa8b639",
   "metadata": {
    "ExecuteTime": {
     "end_time": "2024-08-25T08:24:34.669959Z",
     "start_time": "2024-08-25T08:24:34.660011Z"
    }
   },
   "outputs": [
    {
     "name": "stdout",
     "output_type": "stream",
     "text": [
      "Average rating per movie: 10.20\n",
      "Average rating across all movies: 3.18\n"
     ]
    }
   ],
   "source": [
    "C = count_ratings.num_of_ratings.mean()\n",
    "m = count_ratings.mean_rating.mean()\n",
    "\n",
    "print(f'Average rating per movie: {C:.2f}')\n",
    "print(f'Average rating across all movies: {m:.2f}')"
   ]
  },
  {
   "cell_type": "code",
   "execution_count": 22,
   "id": "706fafcf",
   "metadata": {
    "ExecuteTime": {
     "end_time": "2024-08-25T08:24:36.092651Z",
     "start_time": "2024-08-25T08:24:36.080646Z"
    }
   },
   "outputs": [],
   "source": [
    "def bayesian_average(ratings):\n",
    "    bayesian_avg = (C*m + ratings.sum()) / (C + ratings.count())\n",
    "    return round(bayesian_avg, 2)"
   ]
  },
  {
   "cell_type": "code",
   "execution_count": 23,
   "id": "e5ad7aa8",
   "metadata": {
    "ExecuteTime": {
     "end_time": "2024-08-25T08:24:39.226418Z",
     "start_time": "2024-08-25T08:24:36.818339Z"
    }
   },
   "outputs": [],
   "source": [
    "bayesian_avg_rating = ratings_df.groupby('movieId')['rating'].aggregate(bayesian_average).reset_index()"
   ]
  },
  {
   "cell_type": "code",
   "execution_count": 24,
   "id": "1e18bdb5",
   "metadata": {
    "ExecuteTime": {
     "end_time": "2024-08-25T08:24:40.059107Z",
     "start_time": "2024-08-25T08:24:40.046559Z"
    }
   },
   "outputs": [],
   "source": [
    "bayesian_avg_rating.rename(columns={'rating': 'bay_avg'}, inplace=True)"
   ]
  },
  {
   "cell_type": "code",
   "execution_count": 25,
   "id": "6ce8ef33",
   "metadata": {
    "ExecuteTime": {
     "end_time": "2024-08-25T08:24:41.242910Z",
     "start_time": "2024-08-25T08:24:41.230124Z"
    }
   },
   "outputs": [
    {
     "name": "stdout",
     "output_type": "stream",
     "text": [
      "10325\n",
      "10325\n"
     ]
    }
   ],
   "source": [
    "# joining bayesian average to count_ratings dataset\n",
    "print(len(count_ratings))\n",
    "print(len(bayesian_avg_rating))\n",
    "\n",
    "bay_rating = pd.merge(count_ratings, bayesian_avg_rating, on='movieId')"
   ]
  },
  {
   "cell_type": "code",
   "execution_count": 26,
   "id": "8ce5150c",
   "metadata": {
    "ExecuteTime": {
     "end_time": "2024-08-25T08:24:50.227182Z",
     "start_time": "2024-08-25T08:24:50.212877Z"
    }
   },
   "outputs": [
    {
     "data": {
      "text/html": [
       "<div>\n",
       "<style scoped>\n",
       "    .dataframe tbody tr th:only-of-type {\n",
       "        vertical-align: middle;\n",
       "    }\n",
       "\n",
       "    .dataframe tbody tr th {\n",
       "        vertical-align: top;\n",
       "    }\n",
       "\n",
       "    .dataframe thead th {\n",
       "        text-align: right;\n",
       "    }\n",
       "</style>\n",
       "<table border=\"1\" class=\"dataframe\">\n",
       "  <thead>\n",
       "    <tr style=\"text-align: right;\">\n",
       "      <th></th>\n",
       "      <th>movieId</th>\n",
       "      <th>mean_rating</th>\n",
       "      <th>num_of_ratings</th>\n",
       "      <th>bay_avg</th>\n",
       "    </tr>\n",
       "  </thead>\n",
       "  <tbody>\n",
       "    <tr>\n",
       "      <th>0</th>\n",
       "      <td>1</td>\n",
       "      <td>3.907328</td>\n",
       "      <td>232</td>\n",
       "      <td>3.88</td>\n",
       "    </tr>\n",
       "    <tr>\n",
       "      <th>1</th>\n",
       "      <td>2</td>\n",
       "      <td>3.353261</td>\n",
       "      <td>92</td>\n",
       "      <td>3.34</td>\n",
       "    </tr>\n",
       "    <tr>\n",
       "      <th>2</th>\n",
       "      <td>3</td>\n",
       "      <td>3.189655</td>\n",
       "      <td>58</td>\n",
       "      <td>3.19</td>\n",
       "    </tr>\n",
       "    <tr>\n",
       "      <th>3</th>\n",
       "      <td>4</td>\n",
       "      <td>2.818182</td>\n",
       "      <td>11</td>\n",
       "      <td>2.99</td>\n",
       "    </tr>\n",
       "    <tr>\n",
       "      <th>4</th>\n",
       "      <td>5</td>\n",
       "      <td>3.250000</td>\n",
       "      <td>62</td>\n",
       "      <td>3.24</td>\n",
       "    </tr>\n",
       "  </tbody>\n",
       "</table>\n",
       "</div>"
      ],
      "text/plain": [
       "   movieId  mean_rating  num_of_ratings  bay_avg\n",
       "0        1     3.907328             232     3.88\n",
       "1        2     3.353261              92     3.34\n",
       "2        3     3.189655              58     3.19\n",
       "3        4     2.818182              11     2.99\n",
       "4        5     3.250000              62     3.24"
      ]
     },
     "execution_count": 26,
     "metadata": {},
     "output_type": "execute_result"
    }
   ],
   "source": [
    "bay_rating.head()"
   ]
  },
  {
   "cell_type": "code",
   "execution_count": 27,
   "id": "6589c4e2",
   "metadata": {
    "ExecuteTime": {
     "end_time": "2024-08-25T08:25:05.335978Z",
     "start_time": "2024-08-25T08:25:05.325605Z"
    }
   },
   "outputs": [],
   "source": [
    "bay_ratings = bay_rating[['movieId', 'bay_avg', 'num_of_ratings']]"
   ]
  },
  {
   "cell_type": "code",
   "execution_count": 28,
   "id": "20bc5a69",
   "metadata": {
    "ExecuteTime": {
     "end_time": "2024-08-25T08:25:18.726650Z",
     "start_time": "2024-08-25T08:25:18.712773Z"
    }
   },
   "outputs": [],
   "source": [
    "popularity_data = bay_ratings.merge(movies_df, on='movieId')"
   ]
  },
  {
   "cell_type": "code",
   "execution_count": 29,
   "id": "ff5e8176",
   "metadata": {
    "ExecuteTime": {
     "end_time": "2024-08-25T08:25:22.283909Z",
     "start_time": "2024-08-25T08:25:22.255213Z"
    }
   },
   "outputs": [
    {
     "data": {
      "text/html": [
       "<div>\n",
       "<style scoped>\n",
       "    .dataframe tbody tr th:only-of-type {\n",
       "        vertical-align: middle;\n",
       "    }\n",
       "\n",
       "    .dataframe tbody tr th {\n",
       "        vertical-align: top;\n",
       "    }\n",
       "\n",
       "    .dataframe thead th {\n",
       "        text-align: right;\n",
       "    }\n",
       "</style>\n",
       "<table border=\"1\" class=\"dataframe\">\n",
       "  <thead>\n",
       "    <tr style=\"text-align: right;\">\n",
       "      <th></th>\n",
       "      <th>movieId</th>\n",
       "      <th>bay_avg</th>\n",
       "      <th>num_of_ratings</th>\n",
       "      <th>title</th>\n",
       "      <th>genres</th>\n",
       "    </tr>\n",
       "  </thead>\n",
       "  <tbody>\n",
       "    <tr>\n",
       "      <th>0</th>\n",
       "      <td>1</td>\n",
       "      <td>3.88</td>\n",
       "      <td>232</td>\n",
       "      <td>Toy Story (1995)</td>\n",
       "      <td>Adventure|Animation|Children|Comedy|Fantasy</td>\n",
       "    </tr>\n",
       "    <tr>\n",
       "      <th>1</th>\n",
       "      <td>2</td>\n",
       "      <td>3.34</td>\n",
       "      <td>92</td>\n",
       "      <td>Jumanji (1995)</td>\n",
       "      <td>Adventure|Children|Fantasy</td>\n",
       "    </tr>\n",
       "    <tr>\n",
       "      <th>2</th>\n",
       "      <td>3</td>\n",
       "      <td>3.19</td>\n",
       "      <td>58</td>\n",
       "      <td>Grumpier Old Men (1995)</td>\n",
       "      <td>Comedy|Romance</td>\n",
       "    </tr>\n",
       "    <tr>\n",
       "      <th>3</th>\n",
       "      <td>4</td>\n",
       "      <td>2.99</td>\n",
       "      <td>11</td>\n",
       "      <td>Waiting to Exhale (1995)</td>\n",
       "      <td>Comedy|Drama|Romance</td>\n",
       "    </tr>\n",
       "    <tr>\n",
       "      <th>4</th>\n",
       "      <td>5</td>\n",
       "      <td>3.24</td>\n",
       "      <td>62</td>\n",
       "      <td>Father of the Bride Part II (1995)</td>\n",
       "      <td>Comedy</td>\n",
       "    </tr>\n",
       "  </tbody>\n",
       "</table>\n",
       "</div>"
      ],
      "text/plain": [
       "   movieId  bay_avg  num_of_ratings                               title  \\\n",
       "0        1     3.88             232                    Toy Story (1995)   \n",
       "1        2     3.34              92                      Jumanji (1995)   \n",
       "2        3     3.19              58             Grumpier Old Men (1995)   \n",
       "3        4     2.99              11            Waiting to Exhale (1995)   \n",
       "4        5     3.24              62  Father of the Bride Part II (1995)   \n",
       "\n",
       "                                        genres  \n",
       "0  Adventure|Animation|Children|Comedy|Fantasy  \n",
       "1                   Adventure|Children|Fantasy  \n",
       "2                               Comedy|Romance  \n",
       "3                         Comedy|Drama|Romance  \n",
       "4                                       Comedy  "
      ]
     },
     "execution_count": 29,
     "metadata": {},
     "output_type": "execute_result"
    }
   ],
   "source": [
    "popularity_data.head()"
   ]
  },
  {
   "cell_type": "markdown",
   "id": "84e8d3a2",
   "metadata": {},
   "source": [
    "Create a popularity based recommender system at a genre level. User will input a genre (g), minimum ratings threshold (t) for a movie and no. of recommendations(N) for which it should be recommended top N movies which are most popular within that genre (g) ordered by ratingsin descending order where each movie has at least (t) reviews."
   ]
  },
  {
   "cell_type": "code",
   "execution_count": 30,
   "id": "42442c86",
   "metadata": {
    "ExecuteTime": {
     "end_time": "2024-08-25T08:30:59.108041Z",
     "start_time": "2024-08-25T08:30:59.095435Z"
    }
   },
   "outputs": [],
   "source": [
    "def popularity_recommendation(data, genre, rating_threashold=0, n_recommendations=50):\n",
    "    # getting data consisting of the specified threshold\n",
    "    filter_ = data['genres'].str \\\n",
    "    .contains(genre, flags=re.I, regex=True) & (data['bay_avg']>=rating_threashold)\n",
    "    \n",
    "    # getting the max threshold (max bayesian average)\n",
    "    max_rating_threashold = round(data['bay_avg'].max())\n",
    "    \n",
    "    # making sure that the user is also aware of the max threshold\n",
    "    if rating_threashold > max_rating_threashold:\n",
    "        print('you have exceeded the maximum rating: ', max_rating_threashold)\n",
    "    else:\n",
    "        recommendation = data.loc[filter_].sort_values('bay_avg', ascending=False)\n",
    "        recommendation = recommendation['title'][: n_recommendations].reset_index(drop=True)\n",
    "        return recommendation"
   ]
  },
  {
   "cell_type": "code",
   "execution_count": 31,
   "id": "f36effcc",
   "metadata": {
    "ExecuteTime": {
     "end_time": "2024-08-25T08:31:01.433612Z",
     "start_time": "2024-08-25T08:31:01.405304Z"
    }
   },
   "outputs": [
    {
     "data": {
      "text/plain": [
       "0               Monty Python and the Holy Grail (1975)\n",
       "1                                         Fargo (1996)\n",
       "2                                  Pulp Fiction (1994)\n",
       "3           Life Is Beautiful (La Vita è bella) (1997)\n",
       "4                                  Forrest Gump (1994)\n",
       "5                           Princess Bride, The (1987)\n",
       "6                                    Sting, The (1973)\n",
       "7                                    Annie Hall (1977)\n",
       "8    Dr. Strangelove or: How I Learned to Stop Worr...\n",
       "9                Dr. Horrible's Sing-Along Blog (2008)\n",
       "Name: title, dtype: object"
      ]
     },
     "execution_count": 31,
     "metadata": {},
     "output_type": "execute_result"
    }
   ],
   "source": [
    "# getting recommendation for movie genre \"comedy\"\n",
    "popularity_recommendation(data=popularity_data, genre='comedy', rating_threashold= 3, n_recommendations=10)"
   ]
  },
  {
   "cell_type": "markdown",
   "id": "b76af75e",
   "metadata": {
    "ExecuteTime": {
     "end_time": "2024-08-19T12:03:47.512160Z",
     "start_time": "2024-08-19T12:03:47.402959Z"
    }
   },
   "source": [
    "## Collaborative Based Recommendation System"
   ]
  },
  {
   "cell_type": "markdown",
   "id": "e9cd14a1",
   "metadata": {},
   "source": [
    "Create a collaborative based recommender system which recommends top N \n",
    "movies based on “K” similar users for a target user “u”."
   ]
  },
  {
   "cell_type": "code",
   "execution_count": 32,
   "id": "d3705f53",
   "metadata": {
    "ExecuteTime": {
     "end_time": "2024-08-25T08:32:19.225265Z",
     "start_time": "2024-08-25T08:32:19.093663Z"
    }
   },
   "outputs": [
    {
     "data": {
      "text/html": [
       "<div>\n",
       "<style scoped>\n",
       "    .dataframe tbody tr th:only-of-type {\n",
       "        vertical-align: middle;\n",
       "    }\n",
       "\n",
       "    .dataframe tbody tr th {\n",
       "        vertical-align: top;\n",
       "    }\n",
       "\n",
       "    .dataframe thead th {\n",
       "        text-align: right;\n",
       "    }\n",
       "</style>\n",
       "<table border=\"1\" class=\"dataframe\">\n",
       "  <thead>\n",
       "    <tr style=\"text-align: right;\">\n",
       "      <th></th>\n",
       "      <th>title</th>\n",
       "      <th>avg_rating</th>\n",
       "      <th>num_of_ratings</th>\n",
       "    </tr>\n",
       "  </thead>\n",
       "  <tbody>\n",
       "    <tr>\n",
       "      <th>0</th>\n",
       "      <td>'71 (2014)</td>\n",
       "      <td>3.500</td>\n",
       "      <td>1</td>\n",
       "    </tr>\n",
       "    <tr>\n",
       "      <th>1</th>\n",
       "      <td>'Hellboy': The Seeds of Creation (2004)</td>\n",
       "      <td>3.000</td>\n",
       "      <td>1</td>\n",
       "    </tr>\n",
       "    <tr>\n",
       "      <th>2</th>\n",
       "      <td>'Round Midnight (1986)</td>\n",
       "      <td>2.500</td>\n",
       "      <td>1</td>\n",
       "    </tr>\n",
       "    <tr>\n",
       "      <th>3</th>\n",
       "      <td>'Til There Was You (1997)</td>\n",
       "      <td>4.000</td>\n",
       "      <td>3</td>\n",
       "    </tr>\n",
       "    <tr>\n",
       "      <th>4</th>\n",
       "      <td>'burbs, The (1989)</td>\n",
       "      <td>3.125</td>\n",
       "      <td>20</td>\n",
       "    </tr>\n",
       "  </tbody>\n",
       "</table>\n",
       "</div>"
      ],
      "text/plain": [
       "                                     title  avg_rating  num_of_ratings\n",
       "0                               '71 (2014)       3.500               1\n",
       "1  'Hellboy': The Seeds of Creation (2004)       3.000               1\n",
       "2                   'Round Midnight (1986)       2.500               1\n",
       "3                'Til There Was You (1997)       4.000               3\n",
       "4                       'burbs, The (1989)       3.125              20"
      ]
     },
     "execution_count": 32,
     "metadata": {},
     "output_type": "execute_result"
    }
   ],
   "source": [
    "# combining the raating and the movie datasets together\n",
    "df = pd.merge(movies_df, ratings_df, on='movieId')\n",
    "agg_df = df.groupby('title')['rating'].agg(['mean', 'count']).reset_index()\n",
    "agg_df.columns = ['title', 'avg_rating', 'num_of_ratings']\n",
    "agg_df.head()"
   ]
  },
  {
   "cell_type": "code",
   "execution_count": 33,
   "id": "d240fae4",
   "metadata": {
    "ExecuteTime": {
     "end_time": "2024-08-25T08:32:20.356399Z",
     "start_time": "2024-08-25T08:32:20.329255Z"
    }
   },
   "outputs": [
    {
     "name": "stdout",
     "output_type": "stream",
     "text": [
      "<class 'pandas.core.frame.DataFrame'>\n",
      "Index: 153 entries, 60 to 10204\n",
      "Data columns (total 3 columns):\n",
      " #   Column          Non-Null Count  Dtype  \n",
      "---  ------          --------------  -----  \n",
      " 0   title           153 non-null    object \n",
      " 1   avg_rating      153 non-null    float64\n",
      " 2   num_of_ratings  153 non-null    int64  \n",
      "dtypes: float64(1), int64(1), object(1)\n",
      "memory usage: 4.8+ KB\n"
     ]
    }
   ],
   "source": [
    "# keep movies with over 100 ratings\n",
    "agg_df_grt_100 = agg_df.query('num_of_ratings >= 100')\n",
    "agg_df_grt_100.info()"
   ]
  },
  {
   "cell_type": "markdown",
   "id": "037f683b",
   "metadata": {},
   "source": [
    "checking the most popular movies and their rating"
   ]
  },
  {
   "cell_type": "code",
   "execution_count": 34,
   "id": "84a4b3c4",
   "metadata": {
    "ExecuteTime": {
     "end_time": "2024-08-25T08:32:21.859976Z",
     "start_time": "2024-08-25T08:32:21.837876Z"
    }
   },
   "outputs": [
    {
     "data": {
      "text/html": [
       "<div>\n",
       "<style scoped>\n",
       "    .dataframe tbody tr th:only-of-type {\n",
       "        vertical-align: middle;\n",
       "    }\n",
       "\n",
       "    .dataframe tbody tr th {\n",
       "        vertical-align: top;\n",
       "    }\n",
       "\n",
       "    .dataframe thead th {\n",
       "        text-align: right;\n",
       "    }\n",
       "</style>\n",
       "<table border=\"1\" class=\"dataframe\">\n",
       "  <thead>\n",
       "    <tr style=\"text-align: right;\">\n",
       "      <th></th>\n",
       "      <th>title</th>\n",
       "      <th>avg_rating</th>\n",
       "      <th>num_of_ratings</th>\n",
       "    </tr>\n",
       "  </thead>\n",
       "  <tbody>\n",
       "    <tr>\n",
       "      <th>7323</th>\n",
       "      <td>Pulp Fiction (1994)</td>\n",
       "      <td>4.160000</td>\n",
       "      <td>325</td>\n",
       "    </tr>\n",
       "    <tr>\n",
       "      <th>3349</th>\n",
       "      <td>Forrest Gump (1994)</td>\n",
       "      <td>4.138264</td>\n",
       "      <td>311</td>\n",
       "    </tr>\n",
       "    <tr>\n",
       "      <th>8136</th>\n",
       "      <td>Shawshank Redemption, The (1994)</td>\n",
       "      <td>4.454545</td>\n",
       "      <td>308</td>\n",
       "    </tr>\n",
       "    <tr>\n",
       "      <th>4934</th>\n",
       "      <td>Jurassic Park (1993)</td>\n",
       "      <td>3.659864</td>\n",
       "      <td>294</td>\n",
       "    </tr>\n",
       "    <tr>\n",
       "      <th>8228</th>\n",
       "      <td>Silence of the Lambs, The (1991)</td>\n",
       "      <td>4.194828</td>\n",
       "      <td>290</td>\n",
       "    </tr>\n",
       "  </tbody>\n",
       "</table>\n",
       "</div>"
      ],
      "text/plain": [
       "                                 title  avg_rating  num_of_ratings\n",
       "7323               Pulp Fiction (1994)    4.160000             325\n",
       "3349               Forrest Gump (1994)    4.138264             311\n",
       "8136  Shawshank Redemption, The (1994)    4.454545             308\n",
       "4934              Jurassic Park (1993)    3.659864             294\n",
       "8228  Silence of the Lambs, The (1991)    4.194828             290"
      ]
     },
     "execution_count": 34,
     "metadata": {},
     "output_type": "execute_result"
    }
   ],
   "source": [
    "agg_df_grt_100.sort_values('num_of_ratings', ascending=False).head()"
   ]
  },
  {
   "cell_type": "markdown",
   "id": "065a24e2",
   "metadata": {},
   "source": [
    "To keep only the movies that have 100 or more number of rating, we will merge the agg_df_grt_100 dataset with the df dataset"
   ]
  },
  {
   "cell_type": "code",
   "execution_count": 35,
   "id": "6e313ee2",
   "metadata": {
    "ExecuteTime": {
     "end_time": "2024-08-25T08:32:23.447350Z",
     "start_time": "2024-08-25T08:32:23.402165Z"
    }
   },
   "outputs": [
    {
     "name": "stdout",
     "output_type": "stream",
     "text": [
      "<class 'pandas.core.frame.DataFrame'>\n",
      "RangeIndex: 22856 entries, 0 to 22855\n",
      "Data columns (total 6 columns):\n",
      " #   Column     Non-Null Count  Dtype  \n",
      "---  ------     --------------  -----  \n",
      " 0   movieId    22856 non-null  int64  \n",
      " 1   title      22856 non-null  object \n",
      " 2   genres     22856 non-null  object \n",
      " 3   userId     22856 non-null  int64  \n",
      " 4   rating     22856 non-null  float64\n",
      " 5   timestamp  22856 non-null  int64  \n",
      "dtypes: float64(1), int64(3), object(2)\n",
      "memory usage: 1.0+ MB\n"
     ]
    }
   ],
   "source": [
    "df_grt100 = pd.merge(df, agg_df_grt_100['title'], on='title', how='inner')\n",
    "df_grt100.info()"
   ]
  },
  {
   "cell_type": "code",
   "execution_count": 36,
   "id": "71e6be73",
   "metadata": {
    "ExecuteTime": {
     "end_time": "2024-08-25T08:32:24.884136Z",
     "start_time": "2024-08-25T08:32:24.862338Z"
    }
   },
   "outputs": [
    {
     "name": "stdout",
     "output_type": "stream",
     "text": [
      "The new rating dataset has 653 unique users\n",
      "The new rating dataset has 153 unique movies\n",
      "The new rating dataset has 10 unique ratings\n",
      "The unique ratings are: [0.5 1.  1.5 2.  2.5 3.  3.5 4.  4.5 5. ] \n"
     ]
    }
   ],
   "source": [
    "print(f\"The new rating dataset has {df_grt100['userId'].nunique()} unique users\")\n",
    "print(f\"The new rating dataset has {df_grt100['movieId'].nunique()} unique movies\")\n",
    "print(f\"The new rating dataset has {df_grt100['rating'].nunique()} unique ratings\")\n",
    "print(f\"The unique ratings are: {df_grt100['rating'].sort_values().unique()} \")"
   ]
  },
  {
   "cell_type": "markdown",
   "id": "5ff938d8",
   "metadata": {},
   "source": [
    "**Creating a user_item matrix**"
   ]
  },
  {
   "cell_type": "code",
   "execution_count": 37,
   "id": "e21dcb23",
   "metadata": {
    "ExecuteTime": {
     "end_time": "2024-08-25T08:32:26.293514Z",
     "start_time": "2024-08-25T08:32:26.259439Z"
    }
   },
   "outputs": [],
   "source": [
    "user_item = df_grt100.pivot_table(index='userId', columns='movieId', values='rating')"
   ]
  },
  {
   "cell_type": "code",
   "execution_count": 38,
   "id": "1787fbda",
   "metadata": {
    "ExecuteTime": {
     "end_time": "2024-08-25T08:32:28.727774Z",
     "start_time": "2024-08-25T08:32:28.694767Z"
    }
   },
   "outputs": [
    {
     "name": "stdout",
     "output_type": "stream",
     "text": [
      "shape of user_item matrix (653, 153)\n"
     ]
    },
    {
     "data": {
      "text/html": [
       "<div>\n",
       "<style scoped>\n",
       "    .dataframe tbody tr th:only-of-type {\n",
       "        vertical-align: middle;\n",
       "    }\n",
       "\n",
       "    .dataframe tbody tr th {\n",
       "        vertical-align: top;\n",
       "    }\n",
       "\n",
       "    .dataframe thead th {\n",
       "        text-align: right;\n",
       "    }\n",
       "</style>\n",
       "<table border=\"1\" class=\"dataframe\">\n",
       "  <thead>\n",
       "    <tr style=\"text-align: right;\">\n",
       "      <th>movieId</th>\n",
       "      <th>1</th>\n",
       "      <th>6</th>\n",
       "      <th>10</th>\n",
       "      <th>17</th>\n",
       "      <th>21</th>\n",
       "      <th>32</th>\n",
       "      <th>34</th>\n",
       "      <th>47</th>\n",
       "      <th>50</th>\n",
       "      <th>95</th>\n",
       "      <th>...</th>\n",
       "      <th>5445</th>\n",
       "      <th>5952</th>\n",
       "      <th>6377</th>\n",
       "      <th>6539</th>\n",
       "      <th>6874</th>\n",
       "      <th>7153</th>\n",
       "      <th>8961</th>\n",
       "      <th>33794</th>\n",
       "      <th>58559</th>\n",
       "      <th>79132</th>\n",
       "    </tr>\n",
       "    <tr>\n",
       "      <th>userId</th>\n",
       "      <th></th>\n",
       "      <th></th>\n",
       "      <th></th>\n",
       "      <th></th>\n",
       "      <th></th>\n",
       "      <th></th>\n",
       "      <th></th>\n",
       "      <th></th>\n",
       "      <th></th>\n",
       "      <th></th>\n",
       "      <th></th>\n",
       "      <th></th>\n",
       "      <th></th>\n",
       "      <th></th>\n",
       "      <th></th>\n",
       "      <th></th>\n",
       "      <th></th>\n",
       "      <th></th>\n",
       "      <th></th>\n",
       "      <th></th>\n",
       "      <th></th>\n",
       "    </tr>\n",
       "  </thead>\n",
       "  <tbody>\n",
       "    <tr>\n",
       "      <th>1</th>\n",
       "      <td>NaN</td>\n",
       "      <td>NaN</td>\n",
       "      <td>NaN</td>\n",
       "      <td>NaN</td>\n",
       "      <td>NaN</td>\n",
       "      <td>4.0</td>\n",
       "      <td>NaN</td>\n",
       "      <td>4.0</td>\n",
       "      <td>4.0</td>\n",
       "      <td>NaN</td>\n",
       "      <td>...</td>\n",
       "      <td>3.5</td>\n",
       "      <td>4.5</td>\n",
       "      <td>NaN</td>\n",
       "      <td>NaN</td>\n",
       "      <td>NaN</td>\n",
       "      <td>4.5</td>\n",
       "      <td>4.0</td>\n",
       "      <td>4.5</td>\n",
       "      <td>NaN</td>\n",
       "      <td>NaN</td>\n",
       "    </tr>\n",
       "    <tr>\n",
       "      <th>2</th>\n",
       "      <td>5.0</td>\n",
       "      <td>NaN</td>\n",
       "      <td>NaN</td>\n",
       "      <td>5.0</td>\n",
       "      <td>NaN</td>\n",
       "      <td>3.0</td>\n",
       "      <td>NaN</td>\n",
       "      <td>NaN</td>\n",
       "      <td>NaN</td>\n",
       "      <td>4.0</td>\n",
       "      <td>...</td>\n",
       "      <td>NaN</td>\n",
       "      <td>NaN</td>\n",
       "      <td>NaN</td>\n",
       "      <td>NaN</td>\n",
       "      <td>NaN</td>\n",
       "      <td>NaN</td>\n",
       "      <td>NaN</td>\n",
       "      <td>NaN</td>\n",
       "      <td>NaN</td>\n",
       "      <td>NaN</td>\n",
       "    </tr>\n",
       "    <tr>\n",
       "      <th>3</th>\n",
       "      <td>NaN</td>\n",
       "      <td>NaN</td>\n",
       "      <td>NaN</td>\n",
       "      <td>NaN</td>\n",
       "      <td>5.0</td>\n",
       "      <td>NaN</td>\n",
       "      <td>5.0</td>\n",
       "      <td>NaN</td>\n",
       "      <td>5.0</td>\n",
       "      <td>NaN</td>\n",
       "      <td>...</td>\n",
       "      <td>NaN</td>\n",
       "      <td>NaN</td>\n",
       "      <td>NaN</td>\n",
       "      <td>NaN</td>\n",
       "      <td>NaN</td>\n",
       "      <td>NaN</td>\n",
       "      <td>NaN</td>\n",
       "      <td>NaN</td>\n",
       "      <td>NaN</td>\n",
       "      <td>NaN</td>\n",
       "    </tr>\n",
       "    <tr>\n",
       "      <th>4</th>\n",
       "      <td>NaN</td>\n",
       "      <td>NaN</td>\n",
       "      <td>NaN</td>\n",
       "      <td>NaN</td>\n",
       "      <td>NaN</td>\n",
       "      <td>5.0</td>\n",
       "      <td>NaN</td>\n",
       "      <td>NaN</td>\n",
       "      <td>NaN</td>\n",
       "      <td>NaN</td>\n",
       "      <td>...</td>\n",
       "      <td>NaN</td>\n",
       "      <td>NaN</td>\n",
       "      <td>NaN</td>\n",
       "      <td>NaN</td>\n",
       "      <td>NaN</td>\n",
       "      <td>NaN</td>\n",
       "      <td>NaN</td>\n",
       "      <td>NaN</td>\n",
       "      <td>NaN</td>\n",
       "      <td>NaN</td>\n",
       "    </tr>\n",
       "    <tr>\n",
       "      <th>5</th>\n",
       "      <td>4.0</td>\n",
       "      <td>NaN</td>\n",
       "      <td>NaN</td>\n",
       "      <td>NaN</td>\n",
       "      <td>NaN</td>\n",
       "      <td>NaN</td>\n",
       "      <td>NaN</td>\n",
       "      <td>NaN</td>\n",
       "      <td>NaN</td>\n",
       "      <td>NaN</td>\n",
       "      <td>...</td>\n",
       "      <td>NaN</td>\n",
       "      <td>NaN</td>\n",
       "      <td>3.5</td>\n",
       "      <td>NaN</td>\n",
       "      <td>NaN</td>\n",
       "      <td>NaN</td>\n",
       "      <td>NaN</td>\n",
       "      <td>NaN</td>\n",
       "      <td>NaN</td>\n",
       "      <td>NaN</td>\n",
       "    </tr>\n",
       "  </tbody>\n",
       "</table>\n",
       "<p>5 rows × 153 columns</p>\n",
       "</div>"
      ],
      "text/plain": [
       "movieId  1      6      10     17     21     32     34     47     50     95     \\\n",
       "userId                                                                          \n",
       "1          NaN    NaN    NaN    NaN    NaN    4.0    NaN    4.0    4.0    NaN   \n",
       "2          5.0    NaN    NaN    5.0    NaN    3.0    NaN    NaN    NaN    4.0   \n",
       "3          NaN    NaN    NaN    NaN    5.0    NaN    5.0    NaN    5.0    NaN   \n",
       "4          NaN    NaN    NaN    NaN    NaN    5.0    NaN    NaN    NaN    NaN   \n",
       "5          4.0    NaN    NaN    NaN    NaN    NaN    NaN    NaN    NaN    NaN   \n",
       "\n",
       "movieId  ...  5445   5952   6377   6539   6874   7153   8961   33794  58559  \\\n",
       "userId   ...                                                                  \n",
       "1        ...    3.5    4.5    NaN    NaN    NaN    4.5    4.0    4.5    NaN   \n",
       "2        ...    NaN    NaN    NaN    NaN    NaN    NaN    NaN    NaN    NaN   \n",
       "3        ...    NaN    NaN    NaN    NaN    NaN    NaN    NaN    NaN    NaN   \n",
       "4        ...    NaN    NaN    NaN    NaN    NaN    NaN    NaN    NaN    NaN   \n",
       "5        ...    NaN    NaN    3.5    NaN    NaN    NaN    NaN    NaN    NaN   \n",
       "\n",
       "movieId  79132  \n",
       "userId          \n",
       "1          NaN  \n",
       "2          NaN  \n",
       "3          NaN  \n",
       "4          NaN  \n",
       "5          NaN  \n",
       "\n",
       "[5 rows x 153 columns]"
      ]
     },
     "execution_count": 38,
     "metadata": {},
     "output_type": "execute_result"
    }
   ],
   "source": [
    "print('shape of user_item matrix', user_item.shape)\n",
    "user_item.head()"
   ]
  },
  {
   "cell_type": "markdown",
   "id": "773be348",
   "metadata": {},
   "source": [
    "**Normailizing the Ratings**\n",
    "\n",
    "since some users give more ratings than the others, we need to normalise the ratings"
   ]
  },
  {
   "cell_type": "code",
   "execution_count": 39,
   "id": "fc29d999",
   "metadata": {
    "ExecuteTime": {
     "end_time": "2024-08-25T08:32:32.996963Z",
     "start_time": "2024-08-25T08:32:32.958111Z"
    }
   },
   "outputs": [
    {
     "data": {
      "text/html": [
       "<div>\n",
       "<style scoped>\n",
       "    .dataframe tbody tr th:only-of-type {\n",
       "        vertical-align: middle;\n",
       "    }\n",
       "\n",
       "    .dataframe tbody tr th {\n",
       "        vertical-align: top;\n",
       "    }\n",
       "\n",
       "    .dataframe thead th {\n",
       "        text-align: right;\n",
       "    }\n",
       "</style>\n",
       "<table border=\"1\" class=\"dataframe\">\n",
       "  <thead>\n",
       "    <tr style=\"text-align: right;\">\n",
       "      <th>movieId</th>\n",
       "      <th>1</th>\n",
       "      <th>6</th>\n",
       "      <th>10</th>\n",
       "      <th>17</th>\n",
       "      <th>21</th>\n",
       "      <th>32</th>\n",
       "      <th>34</th>\n",
       "      <th>47</th>\n",
       "      <th>50</th>\n",
       "      <th>95</th>\n",
       "      <th>...</th>\n",
       "      <th>5445</th>\n",
       "      <th>5952</th>\n",
       "      <th>6377</th>\n",
       "      <th>6539</th>\n",
       "      <th>6874</th>\n",
       "      <th>7153</th>\n",
       "      <th>8961</th>\n",
       "      <th>33794</th>\n",
       "      <th>58559</th>\n",
       "      <th>79132</th>\n",
       "    </tr>\n",
       "    <tr>\n",
       "      <th>userId</th>\n",
       "      <th></th>\n",
       "      <th></th>\n",
       "      <th></th>\n",
       "      <th></th>\n",
       "      <th></th>\n",
       "      <th></th>\n",
       "      <th></th>\n",
       "      <th></th>\n",
       "      <th></th>\n",
       "      <th></th>\n",
       "      <th></th>\n",
       "      <th></th>\n",
       "      <th></th>\n",
       "      <th></th>\n",
       "      <th></th>\n",
       "      <th></th>\n",
       "      <th></th>\n",
       "      <th></th>\n",
       "      <th></th>\n",
       "      <th></th>\n",
       "      <th></th>\n",
       "    </tr>\n",
       "  </thead>\n",
       "  <tbody>\n",
       "    <tr>\n",
       "      <th>1</th>\n",
       "      <td>NaN</td>\n",
       "      <td>NaN</td>\n",
       "      <td>NaN</td>\n",
       "      <td>NaN</td>\n",
       "      <td>NaN</td>\n",
       "      <td>0.169231</td>\n",
       "      <td>NaN</td>\n",
       "      <td>0.169231</td>\n",
       "      <td>0.169231</td>\n",
       "      <td>NaN</td>\n",
       "      <td>...</td>\n",
       "      <td>-0.330769</td>\n",
       "      <td>0.669231</td>\n",
       "      <td>NaN</td>\n",
       "      <td>NaN</td>\n",
       "      <td>NaN</td>\n",
       "      <td>0.669231</td>\n",
       "      <td>0.169231</td>\n",
       "      <td>0.669231</td>\n",
       "      <td>NaN</td>\n",
       "      <td>NaN</td>\n",
       "    </tr>\n",
       "    <tr>\n",
       "      <th>2</th>\n",
       "      <td>0.8</td>\n",
       "      <td>NaN</td>\n",
       "      <td>NaN</td>\n",
       "      <td>0.8</td>\n",
       "      <td>NaN</td>\n",
       "      <td>-1.200000</td>\n",
       "      <td>NaN</td>\n",
       "      <td>NaN</td>\n",
       "      <td>NaN</td>\n",
       "      <td>-0.2</td>\n",
       "      <td>...</td>\n",
       "      <td>NaN</td>\n",
       "      <td>NaN</td>\n",
       "      <td>NaN</td>\n",
       "      <td>NaN</td>\n",
       "      <td>NaN</td>\n",
       "      <td>NaN</td>\n",
       "      <td>NaN</td>\n",
       "      <td>NaN</td>\n",
       "      <td>NaN</td>\n",
       "      <td>NaN</td>\n",
       "    </tr>\n",
       "    <tr>\n",
       "      <th>3</th>\n",
       "      <td>NaN</td>\n",
       "      <td>NaN</td>\n",
       "      <td>NaN</td>\n",
       "      <td>NaN</td>\n",
       "      <td>1.285714</td>\n",
       "      <td>NaN</td>\n",
       "      <td>1.285714</td>\n",
       "      <td>NaN</td>\n",
       "      <td>1.285714</td>\n",
       "      <td>NaN</td>\n",
       "      <td>...</td>\n",
       "      <td>NaN</td>\n",
       "      <td>NaN</td>\n",
       "      <td>NaN</td>\n",
       "      <td>NaN</td>\n",
       "      <td>NaN</td>\n",
       "      <td>NaN</td>\n",
       "      <td>NaN</td>\n",
       "      <td>NaN</td>\n",
       "      <td>NaN</td>\n",
       "      <td>NaN</td>\n",
       "    </tr>\n",
       "    <tr>\n",
       "      <th>4</th>\n",
       "      <td>NaN</td>\n",
       "      <td>NaN</td>\n",
       "      <td>NaN</td>\n",
       "      <td>NaN</td>\n",
       "      <td>NaN</td>\n",
       "      <td>0.937500</td>\n",
       "      <td>NaN</td>\n",
       "      <td>NaN</td>\n",
       "      <td>NaN</td>\n",
       "      <td>NaN</td>\n",
       "      <td>...</td>\n",
       "      <td>NaN</td>\n",
       "      <td>NaN</td>\n",
       "      <td>NaN</td>\n",
       "      <td>NaN</td>\n",
       "      <td>NaN</td>\n",
       "      <td>NaN</td>\n",
       "      <td>NaN</td>\n",
       "      <td>NaN</td>\n",
       "      <td>NaN</td>\n",
       "      <td>NaN</td>\n",
       "    </tr>\n",
       "    <tr>\n",
       "      <th>5</th>\n",
       "      <td>1.3</td>\n",
       "      <td>NaN</td>\n",
       "      <td>NaN</td>\n",
       "      <td>NaN</td>\n",
       "      <td>NaN</td>\n",
       "      <td>NaN</td>\n",
       "      <td>NaN</td>\n",
       "      <td>NaN</td>\n",
       "      <td>NaN</td>\n",
       "      <td>NaN</td>\n",
       "      <td>...</td>\n",
       "      <td>NaN</td>\n",
       "      <td>NaN</td>\n",
       "      <td>0.8</td>\n",
       "      <td>NaN</td>\n",
       "      <td>NaN</td>\n",
       "      <td>NaN</td>\n",
       "      <td>NaN</td>\n",
       "      <td>NaN</td>\n",
       "      <td>NaN</td>\n",
       "      <td>NaN</td>\n",
       "    </tr>\n",
       "  </tbody>\n",
       "</table>\n",
       "<p>5 rows × 153 columns</p>\n",
       "</div>"
      ],
      "text/plain": [
       "movieId  1      6      10     17        21        32        34        47     \\\n",
       "userId                                                                        \n",
       "1          NaN    NaN    NaN    NaN       NaN  0.169231       NaN  0.169231   \n",
       "2          0.8    NaN    NaN    0.8       NaN -1.200000       NaN       NaN   \n",
       "3          NaN    NaN    NaN    NaN  1.285714       NaN  1.285714       NaN   \n",
       "4          NaN    NaN    NaN    NaN       NaN  0.937500       NaN       NaN   \n",
       "5          1.3    NaN    NaN    NaN       NaN       NaN       NaN       NaN   \n",
       "\n",
       "movieId     50     95     ...     5445      5952   6377   6539   6874   \\\n",
       "userId                    ...                                            \n",
       "1        0.169231    NaN  ... -0.330769  0.669231    NaN    NaN    NaN   \n",
       "2             NaN   -0.2  ...       NaN       NaN    NaN    NaN    NaN   \n",
       "3        1.285714    NaN  ...       NaN       NaN    NaN    NaN    NaN   \n",
       "4             NaN    NaN  ...       NaN       NaN    NaN    NaN    NaN   \n",
       "5             NaN    NaN  ...       NaN       NaN    0.8    NaN    NaN   \n",
       "\n",
       "movieId     7153      8961      33794  58559  79132  \n",
       "userId                                               \n",
       "1        0.669231  0.169231  0.669231    NaN    NaN  \n",
       "2             NaN       NaN       NaN    NaN    NaN  \n",
       "3             NaN       NaN       NaN    NaN    NaN  \n",
       "4             NaN       NaN       NaN    NaN    NaN  \n",
       "5             NaN       NaN       NaN    NaN    NaN  \n",
       "\n",
       "[5 rows x 153 columns]"
      ]
     },
     "execution_count": 39,
     "metadata": {},
     "output_type": "execute_result"
    }
   ],
   "source": [
    "user_item_norm = user_item.subtract(user_item.mean(axis=1), axis='rows')\n",
    "user_item_norm.head()"
   ]
  },
  {
   "cell_type": "markdown",
   "id": "852e8579",
   "metadata": {},
   "source": [
    "There are two ways to measure similarities. Pearson correlation and cosine similarity are the two widely used methods."
   ]
  },
  {
   "cell_type": "code",
   "execution_count": 40,
   "id": "e8779d34",
   "metadata": {
    "ExecuteTime": {
     "end_time": "2024-08-25T08:32:36.787635Z",
     "start_time": "2024-08-25T08:32:36.633602Z"
    }
   },
   "outputs": [
    {
     "data": {
      "text/html": [
       "<div>\n",
       "<style scoped>\n",
       "    .dataframe tbody tr th:only-of-type {\n",
       "        vertical-align: middle;\n",
       "    }\n",
       "\n",
       "    .dataframe tbody tr th {\n",
       "        vertical-align: top;\n",
       "    }\n",
       "\n",
       "    .dataframe thead th {\n",
       "        text-align: right;\n",
       "    }\n",
       "</style>\n",
       "<table border=\"1\" class=\"dataframe\">\n",
       "  <thead>\n",
       "    <tr style=\"text-align: right;\">\n",
       "      <th>userId</th>\n",
       "      <th>1</th>\n",
       "      <th>2</th>\n",
       "      <th>3</th>\n",
       "      <th>4</th>\n",
       "      <th>5</th>\n",
       "      <th>6</th>\n",
       "      <th>7</th>\n",
       "      <th>8</th>\n",
       "      <th>9</th>\n",
       "      <th>10</th>\n",
       "      <th>...</th>\n",
       "      <th>659</th>\n",
       "      <th>660</th>\n",
       "      <th>661</th>\n",
       "      <th>662</th>\n",
       "      <th>663</th>\n",
       "      <th>664</th>\n",
       "      <th>665</th>\n",
       "      <th>666</th>\n",
       "      <th>667</th>\n",
       "      <th>668</th>\n",
       "    </tr>\n",
       "    <tr>\n",
       "      <th>userId</th>\n",
       "      <th></th>\n",
       "      <th></th>\n",
       "      <th></th>\n",
       "      <th></th>\n",
       "      <th></th>\n",
       "      <th></th>\n",
       "      <th></th>\n",
       "      <th></th>\n",
       "      <th></th>\n",
       "      <th></th>\n",
       "      <th></th>\n",
       "      <th></th>\n",
       "      <th></th>\n",
       "      <th></th>\n",
       "      <th></th>\n",
       "      <th></th>\n",
       "      <th></th>\n",
       "      <th></th>\n",
       "      <th></th>\n",
       "      <th></th>\n",
       "      <th></th>\n",
       "    </tr>\n",
       "  </thead>\n",
       "  <tbody>\n",
       "    <tr>\n",
       "      <th>1</th>\n",
       "      <td>1.000000</td>\n",
       "      <td>-0.306186</td>\n",
       "      <td>0.614559</td>\n",
       "      <td>0.431124</td>\n",
       "      <td>-0.094491</td>\n",
       "      <td>0.471405</td>\n",
       "      <td>0.153463</td>\n",
       "      <td>0.369274</td>\n",
       "      <td>0.195776</td>\n",
       "      <td>-1.0</td>\n",
       "      <td>...</td>\n",
       "      <td>0.099066</td>\n",
       "      <td>0.375769</td>\n",
       "      <td>0.107583</td>\n",
       "      <td>0.349334</td>\n",
       "      <td>0.410803</td>\n",
       "      <td>-0.505322</td>\n",
       "      <td>0.029258</td>\n",
       "      <td>0.018696</td>\n",
       "      <td>0.144082</td>\n",
       "      <td>0.230468</td>\n",
       "    </tr>\n",
       "    <tr>\n",
       "      <th>2</th>\n",
       "      <td>-0.306186</td>\n",
       "      <td>1.000000</td>\n",
       "      <td>0.866025</td>\n",
       "      <td>-1.000000</td>\n",
       "      <td>NaN</td>\n",
       "      <td>NaN</td>\n",
       "      <td>-0.555556</td>\n",
       "      <td>0.577350</td>\n",
       "      <td>0.333333</td>\n",
       "      <td>NaN</td>\n",
       "      <td>...</td>\n",
       "      <td>-1.000000</td>\n",
       "      <td>NaN</td>\n",
       "      <td>0.573539</td>\n",
       "      <td>-0.408248</td>\n",
       "      <td>0.577350</td>\n",
       "      <td>NaN</td>\n",
       "      <td>-0.174078</td>\n",
       "      <td>NaN</td>\n",
       "      <td>-1.000000</td>\n",
       "      <td>0.309359</td>\n",
       "    </tr>\n",
       "    <tr>\n",
       "      <th>3</th>\n",
       "      <td>0.614559</td>\n",
       "      <td>0.866025</td>\n",
       "      <td>1.000000</td>\n",
       "      <td>NaN</td>\n",
       "      <td>0.162938</td>\n",
       "      <td>NaN</td>\n",
       "      <td>-0.228587</td>\n",
       "      <td>1.000000</td>\n",
       "      <td>0.391121</td>\n",
       "      <td>-1.0</td>\n",
       "      <td>...</td>\n",
       "      <td>0.345186</td>\n",
       "      <td>0.585540</td>\n",
       "      <td>1.000000</td>\n",
       "      <td>0.000000</td>\n",
       "      <td>0.252050</td>\n",
       "      <td>-0.491398</td>\n",
       "      <td>0.484123</td>\n",
       "      <td>0.336336</td>\n",
       "      <td>0.392989</td>\n",
       "      <td>0.231076</td>\n",
       "    </tr>\n",
       "    <tr>\n",
       "      <th>4</th>\n",
       "      <td>0.431124</td>\n",
       "      <td>-1.000000</td>\n",
       "      <td>NaN</td>\n",
       "      <td>1.000000</td>\n",
       "      <td>NaN</td>\n",
       "      <td>NaN</td>\n",
       "      <td>-0.115186</td>\n",
       "      <td>NaN</td>\n",
       "      <td>-0.250000</td>\n",
       "      <td>NaN</td>\n",
       "      <td>...</td>\n",
       "      <td>-0.662266</td>\n",
       "      <td>NaN</td>\n",
       "      <td>-1.000000</td>\n",
       "      <td>0.408248</td>\n",
       "      <td>NaN</td>\n",
       "      <td>NaN</td>\n",
       "      <td>-0.801784</td>\n",
       "      <td>-0.063610</td>\n",
       "      <td>0.965824</td>\n",
       "      <td>0.291551</td>\n",
       "    </tr>\n",
       "    <tr>\n",
       "      <th>5</th>\n",
       "      <td>-0.094491</td>\n",
       "      <td>NaN</td>\n",
       "      <td>0.162938</td>\n",
       "      <td>NaN</td>\n",
       "      <td>1.000000</td>\n",
       "      <td>-0.970725</td>\n",
       "      <td>0.077671</td>\n",
       "      <td>NaN</td>\n",
       "      <td>-0.158114</td>\n",
       "      <td>NaN</td>\n",
       "      <td>...</td>\n",
       "      <td>-0.427828</td>\n",
       "      <td>NaN</td>\n",
       "      <td>NaN</td>\n",
       "      <td>0.960769</td>\n",
       "      <td>NaN</td>\n",
       "      <td>-0.548611</td>\n",
       "      <td>0.104257</td>\n",
       "      <td>-0.944911</td>\n",
       "      <td>-0.052658</td>\n",
       "      <td>-0.113529</td>\n",
       "    </tr>\n",
       "  </tbody>\n",
       "</table>\n",
       "<p>5 rows × 653 columns</p>\n",
       "</div>"
      ],
      "text/plain": [
       "userId       1         2         3         4         5         6         7    \\\n",
       "userId                                                                         \n",
       "1       1.000000 -0.306186  0.614559  0.431124 -0.094491  0.471405  0.153463   \n",
       "2      -0.306186  1.000000  0.866025 -1.000000       NaN       NaN -0.555556   \n",
       "3       0.614559  0.866025  1.000000       NaN  0.162938       NaN -0.228587   \n",
       "4       0.431124 -1.000000       NaN  1.000000       NaN       NaN -0.115186   \n",
       "5      -0.094491       NaN  0.162938       NaN  1.000000 -0.970725  0.077671   \n",
       "\n",
       "userId       8         9    10   ...       659       660       661       662  \\\n",
       "userId                           ...                                           \n",
       "1       0.369274  0.195776 -1.0  ...  0.099066  0.375769  0.107583  0.349334   \n",
       "2       0.577350  0.333333  NaN  ... -1.000000       NaN  0.573539 -0.408248   \n",
       "3       1.000000  0.391121 -1.0  ...  0.345186  0.585540  1.000000  0.000000   \n",
       "4            NaN -0.250000  NaN  ... -0.662266       NaN -1.000000  0.408248   \n",
       "5            NaN -0.158114  NaN  ... -0.427828       NaN       NaN  0.960769   \n",
       "\n",
       "userId       663       664       665       666       667       668  \n",
       "userId                                                              \n",
       "1       0.410803 -0.505322  0.029258  0.018696  0.144082  0.230468  \n",
       "2       0.577350       NaN -0.174078       NaN -1.000000  0.309359  \n",
       "3       0.252050 -0.491398  0.484123  0.336336  0.392989  0.231076  \n",
       "4            NaN       NaN -0.801784 -0.063610  0.965824  0.291551  \n",
       "5            NaN -0.548611  0.104257 -0.944911 -0.052658 -0.113529  \n",
       "\n",
       "[5 rows x 653 columns]"
      ]
     },
     "execution_count": 40,
     "metadata": {},
     "output_type": "execute_result"
    }
   ],
   "source": [
    "user_similarity = user_item_norm.T.corr()\n",
    "user_similarity.head()"
   ]
  },
  {
   "cell_type": "markdown",
   "id": "bd463006",
   "metadata": {
    "ExecuteTime": {
     "end_time": "2024-08-22T07:29:22.104425Z",
     "start_time": "2024-08-22T07:29:22.061754Z"
    }
   },
   "source": [
    "Let us use a random id to illustrate how to find similar users. Will need to exclude the user id we have picked from the list of users and decide the number of similar users."
   ]
  },
  {
   "cell_type": "code",
   "execution_count": 41,
   "id": "b6c93c73",
   "metadata": {
    "ExecuteTime": {
     "end_time": "2024-08-25T08:32:39.891595Z",
     "start_time": "2024-08-25T08:32:39.848196Z"
    }
   },
   "outputs": [
    {
     "data": {
      "text/html": [
       "<div>\n",
       "<style scoped>\n",
       "    .dataframe tbody tr th:only-of-type {\n",
       "        vertical-align: middle;\n",
       "    }\n",
       "\n",
       "    .dataframe tbody tr th {\n",
       "        vertical-align: top;\n",
       "    }\n",
       "\n",
       "    .dataframe thead th {\n",
       "        text-align: right;\n",
       "    }\n",
       "</style>\n",
       "<table border=\"1\" class=\"dataframe\">\n",
       "  <thead>\n",
       "    <tr style=\"text-align: right;\">\n",
       "      <th>userId</th>\n",
       "      <th>1</th>\n",
       "      <th>2</th>\n",
       "      <th>3</th>\n",
       "      <th>4</th>\n",
       "      <th>5</th>\n",
       "      <th>6</th>\n",
       "      <th>7</th>\n",
       "      <th>8</th>\n",
       "      <th>9</th>\n",
       "      <th>10</th>\n",
       "      <th>...</th>\n",
       "      <th>659</th>\n",
       "      <th>660</th>\n",
       "      <th>661</th>\n",
       "      <th>662</th>\n",
       "      <th>663</th>\n",
       "      <th>664</th>\n",
       "      <th>665</th>\n",
       "      <th>666</th>\n",
       "      <th>667</th>\n",
       "      <th>668</th>\n",
       "    </tr>\n",
       "    <tr>\n",
       "      <th>userId</th>\n",
       "      <th></th>\n",
       "      <th></th>\n",
       "      <th></th>\n",
       "      <th></th>\n",
       "      <th></th>\n",
       "      <th></th>\n",
       "      <th></th>\n",
       "      <th></th>\n",
       "      <th></th>\n",
       "      <th></th>\n",
       "      <th></th>\n",
       "      <th></th>\n",
       "      <th></th>\n",
       "      <th></th>\n",
       "      <th></th>\n",
       "      <th></th>\n",
       "      <th></th>\n",
       "      <th></th>\n",
       "      <th></th>\n",
       "      <th></th>\n",
       "      <th></th>\n",
       "    </tr>\n",
       "  </thead>\n",
       "  <tbody>\n",
       "    <tr>\n",
       "      <th>2</th>\n",
       "      <td>-0.306186</td>\n",
       "      <td>1.000000</td>\n",
       "      <td>0.866025</td>\n",
       "      <td>-1.0</td>\n",
       "      <td>NaN</td>\n",
       "      <td>NaN</td>\n",
       "      <td>-0.555556</td>\n",
       "      <td>0.57735</td>\n",
       "      <td>0.333333</td>\n",
       "      <td>NaN</td>\n",
       "      <td>...</td>\n",
       "      <td>-1.000000</td>\n",
       "      <td>NaN</td>\n",
       "      <td>0.573539</td>\n",
       "      <td>-0.408248</td>\n",
       "      <td>0.57735</td>\n",
       "      <td>NaN</td>\n",
       "      <td>-0.174078</td>\n",
       "      <td>NaN</td>\n",
       "      <td>-1.000000</td>\n",
       "      <td>0.309359</td>\n",
       "    </tr>\n",
       "    <tr>\n",
       "      <th>3</th>\n",
       "      <td>0.614559</td>\n",
       "      <td>0.866025</td>\n",
       "      <td>1.000000</td>\n",
       "      <td>NaN</td>\n",
       "      <td>0.162938</td>\n",
       "      <td>NaN</td>\n",
       "      <td>-0.228587</td>\n",
       "      <td>1.00000</td>\n",
       "      <td>0.391121</td>\n",
       "      <td>-1.0</td>\n",
       "      <td>...</td>\n",
       "      <td>0.345186</td>\n",
       "      <td>0.58554</td>\n",
       "      <td>1.000000</td>\n",
       "      <td>0.000000</td>\n",
       "      <td>0.25205</td>\n",
       "      <td>-0.491398</td>\n",
       "      <td>0.484123</td>\n",
       "      <td>0.336336</td>\n",
       "      <td>0.392989</td>\n",
       "      <td>0.231076</td>\n",
       "    </tr>\n",
       "    <tr>\n",
       "      <th>4</th>\n",
       "      <td>0.431124</td>\n",
       "      <td>-1.000000</td>\n",
       "      <td>NaN</td>\n",
       "      <td>1.0</td>\n",
       "      <td>NaN</td>\n",
       "      <td>NaN</td>\n",
       "      <td>-0.115186</td>\n",
       "      <td>NaN</td>\n",
       "      <td>-0.250000</td>\n",
       "      <td>NaN</td>\n",
       "      <td>...</td>\n",
       "      <td>-0.662266</td>\n",
       "      <td>NaN</td>\n",
       "      <td>-1.000000</td>\n",
       "      <td>0.408248</td>\n",
       "      <td>NaN</td>\n",
       "      <td>NaN</td>\n",
       "      <td>-0.801784</td>\n",
       "      <td>-0.063610</td>\n",
       "      <td>0.965824</td>\n",
       "      <td>0.291551</td>\n",
       "    </tr>\n",
       "    <tr>\n",
       "      <th>5</th>\n",
       "      <td>-0.094491</td>\n",
       "      <td>NaN</td>\n",
       "      <td>0.162938</td>\n",
       "      <td>NaN</td>\n",
       "      <td>1.000000</td>\n",
       "      <td>-0.970725</td>\n",
       "      <td>0.077671</td>\n",
       "      <td>NaN</td>\n",
       "      <td>-0.158114</td>\n",
       "      <td>NaN</td>\n",
       "      <td>...</td>\n",
       "      <td>-0.427828</td>\n",
       "      <td>NaN</td>\n",
       "      <td>NaN</td>\n",
       "      <td>0.960769</td>\n",
       "      <td>NaN</td>\n",
       "      <td>-0.548611</td>\n",
       "      <td>0.104257</td>\n",
       "      <td>-0.944911</td>\n",
       "      <td>-0.052658</td>\n",
       "      <td>-0.113529</td>\n",
       "    </tr>\n",
       "    <tr>\n",
       "      <th>6</th>\n",
       "      <td>0.471405</td>\n",
       "      <td>NaN</td>\n",
       "      <td>NaN</td>\n",
       "      <td>NaN</td>\n",
       "      <td>-0.970725</td>\n",
       "      <td>1.000000</td>\n",
       "      <td>0.309426</td>\n",
       "      <td>NaN</td>\n",
       "      <td>NaN</td>\n",
       "      <td>NaN</td>\n",
       "      <td>...</td>\n",
       "      <td>0.302614</td>\n",
       "      <td>NaN</td>\n",
       "      <td>NaN</td>\n",
       "      <td>0.132453</td>\n",
       "      <td>NaN</td>\n",
       "      <td>NaN</td>\n",
       "      <td>-0.166667</td>\n",
       "      <td>NaN</td>\n",
       "      <td>1.000000</td>\n",
       "      <td>-0.080930</td>\n",
       "    </tr>\n",
       "  </tbody>\n",
       "</table>\n",
       "<p>5 rows × 653 columns</p>\n",
       "</div>"
      ],
      "text/plain": [
       "userId       1         2         3    4         5         6         7    \\\n",
       "userId                                                                    \n",
       "2      -0.306186  1.000000  0.866025 -1.0       NaN       NaN -0.555556   \n",
       "3       0.614559  0.866025  1.000000  NaN  0.162938       NaN -0.228587   \n",
       "4       0.431124 -1.000000       NaN  1.0       NaN       NaN -0.115186   \n",
       "5      -0.094491       NaN  0.162938  NaN  1.000000 -0.970725  0.077671   \n",
       "6       0.471405       NaN       NaN  NaN -0.970725  1.000000  0.309426   \n",
       "\n",
       "userId      8         9    10   ...       659      660       661       662  \\\n",
       "userId                          ...                                          \n",
       "2       0.57735  0.333333  NaN  ... -1.000000      NaN  0.573539 -0.408248   \n",
       "3       1.00000  0.391121 -1.0  ...  0.345186  0.58554  1.000000  0.000000   \n",
       "4           NaN -0.250000  NaN  ... -0.662266      NaN -1.000000  0.408248   \n",
       "5           NaN -0.158114  NaN  ... -0.427828      NaN       NaN  0.960769   \n",
       "6           NaN       NaN  NaN  ...  0.302614      NaN       NaN  0.132453   \n",
       "\n",
       "userId      663       664       665       666       667       668  \n",
       "userId                                                             \n",
       "2       0.57735       NaN -0.174078       NaN -1.000000  0.309359  \n",
       "3       0.25205 -0.491398  0.484123  0.336336  0.392989  0.231076  \n",
       "4           NaN       NaN -0.801784 -0.063610  0.965824  0.291551  \n",
       "5           NaN -0.548611  0.104257 -0.944911 -0.052658 -0.113529  \n",
       "6           NaN       NaN -0.166667       NaN  1.000000 -0.080930  \n",
       "\n",
       "[5 rows x 653 columns]"
      ]
     },
     "execution_count": 41,
     "metadata": {},
     "output_type": "execute_result"
    }
   ],
   "source": [
    "# pick user id 1\n",
    "picked_user_id = 1\n",
    "\n",
    "# romove picked user ID from the user_similarity list\n",
    "user_similarity.drop(index=1, inplace=True)\n",
    "\n",
    "user_similarity.head()"
   ]
  },
  {
   "cell_type": "markdown",
   "id": "67a95f46",
   "metadata": {},
   "source": [
    "In the user_similarity matrix that we have created, the values ranges from -1 to 1, where -1 means opposite movie preference and 1 means same movie preference.\n",
    "\n",
    "n represents the number of top users wee want for the picked user ID\n",
    "\n",
    "\n",
    "The user-based collaborative filtering makes recommendations based on users with similar tastes, so we need to set a positive threshold. Here we have set user_similarity_thrh to be 0.3, user ID to be 1, and top similar user n to be 10. This means a user must have a Pearson correlation of at least 0.3 to be considered as a similar user.\n",
    "\n",
    "After setting the number of similar users and similarity threshold, we sort the user similarity value from highest to lowest, then print out the most similar user's ID and the Pearson correlation value."
   ]
  },
  {
   "cell_type": "code",
   "execution_count": 42,
   "id": "5d3e5eee",
   "metadata": {
    "ExecuteTime": {
     "end_time": "2024-08-25T08:32:47.570129Z",
     "start_time": "2024-08-25T08:32:47.548513Z"
    }
   },
   "outputs": [
    {
     "data": {
      "text/plain": [
       "userId\n",
       "34     1.000000\n",
       "154    1.000000\n",
       "67     1.000000\n",
       "117    1.000000\n",
       "533    1.000000\n",
       "621    0.981981\n",
       "526    0.966988\n",
       "103    0.945343\n",
       "271    0.943300\n",
       "26     0.940582\n",
       "Name: 1, dtype: float64"
      ]
     },
     "execution_count": 42,
     "metadata": {},
     "output_type": "execute_result"
    }
   ],
   "source": [
    "# number of similar users\n",
    "n = 10\n",
    "\n",
    "# user similarity threashold \n",
    "'''\n",
    "this means the user must have a pearson correlation that meets the threshold\n",
    "we have set\n",
    "\n",
    "'''\n",
    "t = 0.3\n",
    "\n",
    "# get top n similar users\n",
    "similar_user = user_similarity[user_similarity[picked_user_id] > t][picked_user_id].sort_values(ascending=False)[:n]\n",
    "similar_user"
   ]
  },
  {
   "cell_type": "markdown",
   "id": "07f5f46b",
   "metadata": {
    "ExecuteTime": {
     "end_time": "2024-08-22T08:00:07.806539Z",
     "start_time": "2024-08-22T08:00:07.792038Z"
    }
   },
   "source": [
    "Now we are going to remove the movies watched by the picked user and keep only the movies that have been watched by similar users"
   ]
  },
  {
   "cell_type": "code",
   "execution_count": 43,
   "id": "85e9cc41",
   "metadata": {
    "ExecuteTime": {
     "end_time": "2024-08-25T08:32:54.429193Z",
     "start_time": "2024-08-25T08:32:54.403960Z"
    }
   },
   "outputs": [
    {
     "data": {
      "text/html": [
       "<div>\n",
       "<style scoped>\n",
       "    .dataframe tbody tr th:only-of-type {\n",
       "        vertical-align: middle;\n",
       "    }\n",
       "\n",
       "    .dataframe tbody tr th {\n",
       "        vertical-align: top;\n",
       "    }\n",
       "\n",
       "    .dataframe thead th {\n",
       "        text-align: right;\n",
       "    }\n",
       "</style>\n",
       "<table border=\"1\" class=\"dataframe\">\n",
       "  <thead>\n",
       "    <tr style=\"text-align: right;\">\n",
       "      <th>movieId</th>\n",
       "      <th>32</th>\n",
       "      <th>47</th>\n",
       "      <th>50</th>\n",
       "      <th>110</th>\n",
       "      <th>150</th>\n",
       "      <th>161</th>\n",
       "      <th>165</th>\n",
       "      <th>223</th>\n",
       "      <th>260</th>\n",
       "      <th>296</th>\n",
       "      <th>...</th>\n",
       "      <th>4963</th>\n",
       "      <th>4993</th>\n",
       "      <th>4995</th>\n",
       "      <th>5349</th>\n",
       "      <th>5418</th>\n",
       "      <th>5445</th>\n",
       "      <th>5952</th>\n",
       "      <th>7153</th>\n",
       "      <th>8961</th>\n",
       "      <th>33794</th>\n",
       "    </tr>\n",
       "    <tr>\n",
       "      <th>userId</th>\n",
       "      <th></th>\n",
       "      <th></th>\n",
       "      <th></th>\n",
       "      <th></th>\n",
       "      <th></th>\n",
       "      <th></th>\n",
       "      <th></th>\n",
       "      <th></th>\n",
       "      <th></th>\n",
       "      <th></th>\n",
       "      <th></th>\n",
       "      <th></th>\n",
       "      <th></th>\n",
       "      <th></th>\n",
       "      <th></th>\n",
       "      <th></th>\n",
       "      <th></th>\n",
       "      <th></th>\n",
       "      <th></th>\n",
       "      <th></th>\n",
       "      <th></th>\n",
       "    </tr>\n",
       "  </thead>\n",
       "  <tbody>\n",
       "    <tr>\n",
       "      <th>1</th>\n",
       "      <td>0.169231</td>\n",
       "      <td>0.169231</td>\n",
       "      <td>0.169231</td>\n",
       "      <td>0.169231</td>\n",
       "      <td>-0.830769</td>\n",
       "      <td>0.169231</td>\n",
       "      <td>-0.830769</td>\n",
       "      <td>0.169231</td>\n",
       "      <td>0.669231</td>\n",
       "      <td>0.169231</td>\n",
       "      <td>...</td>\n",
       "      <td>-0.330769</td>\n",
       "      <td>0.669231</td>\n",
       "      <td>0.169231</td>\n",
       "      <td>-0.830769</td>\n",
       "      <td>0.169231</td>\n",
       "      <td>-0.330769</td>\n",
       "      <td>0.669231</td>\n",
       "      <td>0.669231</td>\n",
       "      <td>0.169231</td>\n",
       "      <td>0.669231</td>\n",
       "    </tr>\n",
       "  </tbody>\n",
       "</table>\n",
       "<p>1 rows × 65 columns</p>\n",
       "</div>"
      ],
      "text/plain": [
       "movieId     32        47        50        110       150       161       165    \\\n",
       "userId                                                                          \n",
       "1        0.169231  0.169231  0.169231  0.169231 -0.830769  0.169231 -0.830769   \n",
       "\n",
       "movieId     223       260       296    ...     4963      4993      4995   \\\n",
       "userId                                 ...                                 \n",
       "1        0.169231  0.669231  0.169231  ... -0.330769  0.669231  0.169231   \n",
       "\n",
       "movieId     5349      5418      5445      5952      7153      8961      33794  \n",
       "userId                                                                         \n",
       "1       -0.830769  0.169231 -0.330769  0.669231  0.669231  0.169231  0.669231  \n",
       "\n",
       "[1 rows x 65 columns]"
      ]
     },
     "execution_count": 43,
     "metadata": {},
     "output_type": "execute_result"
    }
   ],
   "source": [
    "# movies watched by picked user\n",
    "watched_by_user = user_item_norm[user_item_norm.index == picked_user_id].dropna(axis=1, how='all')\n",
    "watched_by_user"
   ]
  },
  {
   "cell_type": "code",
   "execution_count": 44,
   "id": "384bc258",
   "metadata": {
    "ExecuteTime": {
     "end_time": "2024-08-25T08:32:55.353089Z",
     "start_time": "2024-08-25T08:32:55.337835Z"
    }
   },
   "outputs": [],
   "source": [
    "# Now to keep only movies watched by similar users\n",
    "watched_by_similar_users = user_item_norm[user_item_norm.index.isin(similar_user.index)]\n",
    "# remove the movies in wich none of the users have watched\n",
    "watched_by_similar_users.dropna(axis=1, how='all', inplace=True)"
   ]
  },
  {
   "cell_type": "code",
   "execution_count": 45,
   "id": "eb12aa33",
   "metadata": {
    "ExecuteTime": {
     "end_time": "2024-08-25T08:33:00.344809Z",
     "start_time": "2024-08-25T08:33:00.335027Z"
    }
   },
   "outputs": [],
   "source": [
    "# now we are going to remove movies in which the picked user id had watched\n",
    "user_movies = watched_by_user.columns.values\n",
    "watched_by_similar_users.drop(user_movies, axis=1, inplace=True, errors='ignore')"
   ]
  },
  {
   "cell_type": "code",
   "execution_count": 46,
   "id": "f3288650",
   "metadata": {
    "ExecuteTime": {
     "end_time": "2024-08-25T08:33:01.890241Z",
     "start_time": "2024-08-25T08:33:01.879288Z"
    }
   },
   "outputs": [
    {
     "data": {
      "text/plain": [
       "(10, 24)"
      ]
     },
     "execution_count": 46,
     "metadata": {},
     "output_type": "execute_result"
    }
   ],
   "source": [
    "# this shows that there are about 71 movies we can recommend to the user of\n",
    "# interest based on similar users\n",
    "watched_by_similar_users.shape"
   ]
  },
  {
   "cell_type": "markdown",
   "id": "9fc7ac0f",
   "metadata": {},
   "source": [
    "this shows that there are about 24 movies we can recommend to the user of\n",
    "interest from top 10 similar users"
   ]
  },
  {
   "cell_type": "markdown",
   "id": "ad10144f",
   "metadata": {},
   "source": [
    "**RECOMMENDING MOVIES**"
   ]
  },
  {
   "cell_type": "markdown",
   "id": "99c8e8a9",
   "metadata": {},
   "source": [
    "The recommended movies are determined by the weighted average of user similarity score and movie rating. the movie ratings are weighted by the similarity scores, so the users with higher similarity get higher weights.\n"
   ]
  },
  {
   "cell_type": "code",
   "execution_count": 47,
   "id": "1a13452e",
   "metadata": {
    "ExecuteTime": {
     "end_time": "2024-08-25T08:33:10.274390Z",
     "start_time": "2024-08-25T08:33:10.250690Z"
    }
   },
   "outputs": [],
   "source": [
    "'''\n",
    "This code loops through items and users to get the item score, rank the score\n",
    "from high to low and pick he top 10 movies to recommend to the selected user\n",
    "'''\n",
    "\n",
    "# A dictionar to store item scores\n",
    "item_score = {}\n",
    "\n",
    "# loop through items\n",
    "for i in watched_by_similar_users.columns:\n",
    "    # get ratings for i\n",
    "    movie_rating = watched_by_similar_users[i]\n",
    "    # create a variable to store the score\n",
    "    total = 0\n",
    "    # create a variable to store the number of scores\n",
    "    count = 0\n",
    "    # loop through similar users\n",
    "    for u in similar_user.index:\n",
    "        # if the movie has rating\n",
    "        if pd.isna(movie_rating[u]) == False:\n",
    "            # score is the sum of user similarity score multiply by the movie rating\n",
    "            score = similar_user[u] * movie_rating[u]\n",
    "            # add the score to the total score for the moview so far\n",
    "            total += score\n",
    "            # add 1 to count\n",
    "            count += 1\n",
    "    item_score[i] = total / count\n",
    "    \n",
    "# convert item_score to a pandas dataframe\n",
    "item_score = pd.DataFrame(item_score.items(), columns=['movieId', 'score'])\n",
    "\n",
    "# sort the movies by score\n",
    "ranked_item_score = item_score.sort_values('score', ascending=False)\n"
   ]
  },
  {
   "cell_type": "code",
   "execution_count": 48,
   "id": "e21d38b8",
   "metadata": {
    "ExecuteTime": {
     "end_time": "2024-08-25T08:33:12.763757Z",
     "start_time": "2024-08-25T08:33:12.750378Z"
    }
   },
   "outputs": [
    {
     "data": {
      "text/html": [
       "<div>\n",
       "<style scoped>\n",
       "    .dataframe tbody tr th:only-of-type {\n",
       "        vertical-align: middle;\n",
       "    }\n",
       "\n",
       "    .dataframe tbody tr th {\n",
       "        vertical-align: top;\n",
       "    }\n",
       "\n",
       "    .dataframe thead th {\n",
       "        text-align: right;\n",
       "    }\n",
       "</style>\n",
       "<table border=\"1\" class=\"dataframe\">\n",
       "  <thead>\n",
       "    <tr style=\"text-align: right;\">\n",
       "      <th></th>\n",
       "      <th>movieId</th>\n",
       "      <th>score</th>\n",
       "    </tr>\n",
       "  </thead>\n",
       "  <tbody>\n",
       "    <tr>\n",
       "      <th>2</th>\n",
       "      <td>17</td>\n",
       "      <td>1.785648</td>\n",
       "    </tr>\n",
       "    <tr>\n",
       "      <th>1</th>\n",
       "      <td>6</td>\n",
       "      <td>0.971650</td>\n",
       "    </tr>\n",
       "    <tr>\n",
       "      <th>7</th>\n",
       "      <td>750</td>\n",
       "      <td>0.637500</td>\n",
       "    </tr>\n",
       "    <tr>\n",
       "      <th>20</th>\n",
       "      <td>2987</td>\n",
       "      <td>0.548673</td>\n",
       "    </tr>\n",
       "    <tr>\n",
       "      <th>23</th>\n",
       "      <td>6874</td>\n",
       "      <td>0.490990</td>\n",
       "    </tr>\n",
       "    <tr>\n",
       "      <th>21</th>\n",
       "      <td>2997</td>\n",
       "      <td>0.446982</td>\n",
       "    </tr>\n",
       "    <tr>\n",
       "      <th>17</th>\n",
       "      <td>2706</td>\n",
       "      <td>0.386795</td>\n",
       "    </tr>\n",
       "    <tr>\n",
       "      <th>19</th>\n",
       "      <td>2918</td>\n",
       "      <td>0.193398</td>\n",
       "    </tr>\n",
       "    <tr>\n",
       "      <th>13</th>\n",
       "      <td>1610</td>\n",
       "      <td>0.078382</td>\n",
       "    </tr>\n",
       "    <tr>\n",
       "      <th>6</th>\n",
       "      <td>733</td>\n",
       "      <td>0.000000</td>\n",
       "    </tr>\n",
       "    <tr>\n",
       "      <th>9</th>\n",
       "      <td>1073</td>\n",
       "      <td>-0.028350</td>\n",
       "    </tr>\n",
       "    <tr>\n",
       "      <th>11</th>\n",
       "      <td>1097</td>\n",
       "      <td>-0.105038</td>\n",
       "    </tr>\n",
       "    <tr>\n",
       "      <th>16</th>\n",
       "      <td>2683</td>\n",
       "      <td>-0.210038</td>\n",
       "    </tr>\n",
       "    <tr>\n",
       "      <th>12</th>\n",
       "      <td>1527</td>\n",
       "      <td>-0.228745</td>\n",
       "    </tr>\n",
       "    <tr>\n",
       "      <th>0</th>\n",
       "      <td>1</td>\n",
       "      <td>-0.349446</td>\n",
       "    </tr>\n",
       "    <tr>\n",
       "      <th>4</th>\n",
       "      <td>474</td>\n",
       "      <td>-0.391909</td>\n",
       "    </tr>\n",
       "    <tr>\n",
       "      <th>22</th>\n",
       "      <td>4226</td>\n",
       "      <td>-0.490990</td>\n",
       "    </tr>\n",
       "    <tr>\n",
       "      <th>15</th>\n",
       "      <td>2355</td>\n",
       "      <td>-0.580193</td>\n",
       "    </tr>\n",
       "    <tr>\n",
       "      <th>14</th>\n",
       "      <td>1968</td>\n",
       "      <td>-0.625000</td>\n",
       "    </tr>\n",
       "    <tr>\n",
       "      <th>3</th>\n",
       "      <td>95</td>\n",
       "      <td>-0.841164</td>\n",
       "    </tr>\n",
       "    <tr>\n",
       "      <th>8</th>\n",
       "      <td>778</td>\n",
       "      <td>-0.943300</td>\n",
       "    </tr>\n",
       "    <tr>\n",
       "      <th>18</th>\n",
       "      <td>2916</td>\n",
       "      <td>-1.050381</td>\n",
       "    </tr>\n",
       "    <tr>\n",
       "      <th>5</th>\n",
       "      <td>587</td>\n",
       "      <td>-1.050381</td>\n",
       "    </tr>\n",
       "    <tr>\n",
       "      <th>10</th>\n",
       "      <td>1079</td>\n",
       "      <td>-1.125000</td>\n",
       "    </tr>\n",
       "  </tbody>\n",
       "</table>\n",
       "</div>"
      ],
      "text/plain": [
       "    movieId     score\n",
       "2        17  1.785648\n",
       "1         6  0.971650\n",
       "7       750  0.637500\n",
       "20     2987  0.548673\n",
       "23     6874  0.490990\n",
       "21     2997  0.446982\n",
       "17     2706  0.386795\n",
       "19     2918  0.193398\n",
       "13     1610  0.078382\n",
       "6       733  0.000000\n",
       "9      1073 -0.028350\n",
       "11     1097 -0.105038\n",
       "16     2683 -0.210038\n",
       "12     1527 -0.228745\n",
       "0         1 -0.349446\n",
       "4       474 -0.391909\n",
       "22     4226 -0.490990\n",
       "15     2355 -0.580193\n",
       "14     1968 -0.625000\n",
       "3        95 -0.841164\n",
       "8       778 -0.943300\n",
       "18     2916 -1.050381\n",
       "5       587 -1.050381\n",
       "10     1079 -1.125000"
      ]
     },
     "execution_count": 48,
     "metadata": {},
     "output_type": "execute_result"
    }
   ],
   "source": [
    "# select top n movies\n",
    "m = 30\n",
    "top_movies = ranked_item_score.head(m)\n",
    "top_movies"
   ]
  },
  {
   "cell_type": "code",
   "execution_count": 49,
   "id": "efb93247",
   "metadata": {
    "ExecuteTime": {
     "end_time": "2024-08-25T08:33:17.363251Z",
     "start_time": "2024-08-25T08:33:17.349437Z"
    }
   },
   "outputs": [
    {
     "data": {
      "text/plain": [
       "0                          Sense and Sensibility (1995)\n",
       "1                                           Heat (1995)\n",
       "2     Dr. Strangelove or: How I Learned to Stop Worr...\n",
       "3                       Who Framed Roger Rabbit? (1988)\n",
       "4                              Kill Bill: Vol. 1 (2003)\n",
       "5                           Being John Malkovich (1999)\n",
       "6                                   American Pie (1999)\n",
       "7                       Ferris Bueller's Day Off (1986)\n",
       "8                      Hunt for Red October, The (1990)\n",
       "9                                      Rock, The (1996)\n",
       "10           Willy Wonka & the Chocolate Factory (1971)\n",
       "11                    E.T. the Extra-Terrestrial (1982)\n",
       "12         Austin Powers: The Spy Who Shagged Me (1999)\n",
       "13                            Fifth Element, The (1997)\n",
       "14                                     Toy Story (1995)\n",
       "15                           In the Line of Fire (1993)\n",
       "16                                       Memento (2000)\n",
       "17                                 Bug's Life, A (1998)\n",
       "18                           Breakfast Club, The (1985)\n",
       "19                                  Broken Arrow (1996)\n",
       "20                                 Trainspotting (1996)\n",
       "21                                  Total Recall (1990)\n",
       "22                                         Ghost (1990)\n",
       "23                          Fish Called Wanda, A (1988)\n",
       "Name: title, dtype: object"
      ]
     },
     "execution_count": 49,
     "metadata": {},
     "output_type": "execute_result"
    }
   ],
   "source": [
    "\n",
    "# get the movies titles\n",
    "pd.merge(top_movies, movies_df, on='movieId', how='inner')['title']"
   ]
  },
  {
   "cell_type": "markdown",
   "id": "688c86fd",
   "metadata": {},
   "source": [
    "**Puting all of the codes that help us make recommendation in one functon**"
   ]
  },
  {
   "cell_type": "code",
   "execution_count": 52,
   "id": "ee9683db",
   "metadata": {
    "ExecuteTime": {
     "end_time": "2024-08-25T08:48:12.499136Z",
     "start_time": "2024-08-25T08:48:12.477690Z"
    }
   },
   "outputs": [],
   "source": [
    "def recommender(data, user, k, threshold=0.3, N=10):\n",
    "    \"\"\"\n",
    "    Args:\n",
    "        data: is the data that will be processed for recommen\n",
    "        threshold: Pearson's correlation value ranging from 0 to 1\n",
    "        user: takes user ID\n",
    "        k: number of similar user you want to include\n",
    "        N: number of recommended movies\n",
    "    \n",
    "    \"\"\"\n",
    "#     creating a user item matrix\n",
    "    user_item = pd.pivot_table(data=data, index='userId', columns='movieId', values='rating')\n",
    "    # creating a fuction that helps us normalize the ratings\n",
    "    user_item_norm = user_item.subtract(user_item.mean(axis=1), axis='rows')\n",
    "    # creating a user similarity matrix with Pearsons correlation\n",
    "    user_similarity = user_item_norm.T.corr()\n",
    "    \n",
    "    picked_user_id = user\n",
    "    # remove picked user id from the list\n",
    "    user_similarity.drop(index=picked_user_id, inplace=True)\n",
    "\n",
    "    \n",
    "    #  movies that the target user has eatched\n",
    "    picked_userid_watched = user_item_norm[user_item_norm.index == picked_user_id].dropna(axis=1, how='all')\n",
    "    \n",
    "    \n",
    "    # get top n similarity users\n",
    "    similar_user = user_similarity[user_similarity[picked_user_id]>threshold][picked_user_id]\n",
    "    # sorting the 'n' number of users by the pearson correlation\n",
    "    similar_user = similar_user.sort_values(ascending=False)[:k]\n",
    "    #print(f\"The similar users for user {picked_user_id} are: \")\n",
    "    #print(similar_user)\n",
    "    watched_by_user = user_item_norm[user_item_norm.index == picked_user_id].dropna(axis=1, how='all')\n",
    "    watched_by_similar_users = user_item_norm[user_item_norm.index.isin(similar_user.index)].dropna(axis=1, how='all')\n",
    "    watched_by_similar_users.drop(watched_by_user.columns, axis=1, inplace= True, errors='ignore')\n",
    "    # A dictionary to store item score\n",
    "    item_score = {}\n",
    "    # looping through items\n",
    "    for i in watched_by_similar_users.columns:\n",
    "        # get the ratings for movie i\n",
    "        movie_rating = watched_by_similar_users[i]\n",
    "        # create variable to store the score\n",
    "        total = 0\n",
    "        # create variable to store the number of scores\n",
    "        count = 0\n",
    "        # loop through the similar users\n",
    "        for u in watched_by_similar_users.index:\n",
    "            # if the movie has rating\n",
    "            if pd.isna(movie_rating[u]) == False:\n",
    "                # score is the sum of user similarity score multiplied by the movie rating\n",
    "                score = similar_user[u] * movie_rating[u]\n",
    "                # Add the score to the total score for the movie so far\n",
    "                total += score\n",
    "                # add 1 to the count\n",
    "                count += 1\n",
    "        item_score[i] = total /count\n",
    "\n",
    "    item_score = pd.DataFrame(item_score.items(), columns=['movieId', 'movie_score'])\n",
    "    ranked_item_score = item_score.sort_values('movie_score', ascending=False)\n",
    "    # select top m movies\n",
    "    \n",
    "    recomendations = pd.merge(ranked_item_score.head(N), movies_df, how='inner', on='movieId')\n",
    "    \n",
    "    #return recomendations.title\n",
    "    for i in recomendations.title.values:\n",
    "        print(i)"
   ]
  },
  {
   "cell_type": "code",
   "execution_count": 61,
   "id": "0d974b47",
   "metadata": {
    "ExecuteTime": {
     "end_time": "2024-08-25T08:51:04.974211Z",
     "start_time": "2024-08-25T08:51:04.766020Z"
    }
   },
   "outputs": [
    {
     "name": "stdout",
     "output_type": "stream",
     "text": [
      "Sense and Sensibility (1995)\n",
      "Heat (1995)\n",
      "Dr. Strangelove or: How I Learned to Stop Worrying and Love the Bomb (1964)\n",
      "Who Framed Roger Rabbit? (1988)\n",
      "Kill Bill: Vol. 1 (2003)\n",
      "Being John Malkovich (1999)\n",
      "American Pie (1999)\n",
      "Ferris Bueller's Day Off (1986)\n",
      "Hunt for Red October, The (1990)\n",
      "Rock, The (1996)\n"
     ]
    }
   ],
   "source": [
    "# getting recommendations for user 1 with 10 most similar users\n",
    "recommender(df_grt100, threshold=0.3, k=10, user=1)"
   ]
  },
  {
   "cell_type": "markdown",
   "id": "079fe5df",
   "metadata": {},
   "source": [
    "# Content based Recommendation"
   ]
  },
  {
   "cell_type": "markdown",
   "id": "dc9f7fbc",
   "metadata": {
    "ExecuteTime": {
     "end_time": "2024-08-21T08:50:46.268419Z",
     "start_time": "2024-08-21T08:50:46.251774Z"
    }
   },
   "source": [
    "The collaborative filtering method of recommendation relies on user-item matrix. New users or items get excluded from the recommendation system. Content base filtering is a way to handle this draw back in collaborative recommendation system. In content based filtering, items are recommended base on attributes such as genre, director, actors, and other keywords related to its plot."
   ]
  },
  {
   "cell_type": "code",
   "execution_count": 67,
   "id": "eb28862d",
   "metadata": {
    "ExecuteTime": {
     "end_time": "2024-08-25T08:52:35.323029Z",
     "start_time": "2024-08-25T08:52:35.301774Z"
    }
   },
   "outputs": [
    {
     "data": {
      "text/html": [
       "<div>\n",
       "<style scoped>\n",
       "    .dataframe tbody tr th:only-of-type {\n",
       "        vertical-align: middle;\n",
       "    }\n",
       "\n",
       "    .dataframe tbody tr th {\n",
       "        vertical-align: top;\n",
       "    }\n",
       "\n",
       "    .dataframe thead th {\n",
       "        text-align: right;\n",
       "    }\n",
       "</style>\n",
       "<table border=\"1\" class=\"dataframe\">\n",
       "  <thead>\n",
       "    <tr style=\"text-align: right;\">\n",
       "      <th></th>\n",
       "      <th>movieId</th>\n",
       "      <th>title</th>\n",
       "      <th>genres</th>\n",
       "    </tr>\n",
       "  </thead>\n",
       "  <tbody>\n",
       "    <tr>\n",
       "      <th>0</th>\n",
       "      <td>1</td>\n",
       "      <td>Toy Story (1995)</td>\n",
       "      <td>[Adventure, Animation, Children, Comedy, Fantasy]</td>\n",
       "    </tr>\n",
       "    <tr>\n",
       "      <th>1</th>\n",
       "      <td>2</td>\n",
       "      <td>Jumanji (1995)</td>\n",
       "      <td>[Adventure, Children, Fantasy]</td>\n",
       "    </tr>\n",
       "    <tr>\n",
       "      <th>2</th>\n",
       "      <td>3</td>\n",
       "      <td>Grumpier Old Men (1995)</td>\n",
       "      <td>[Comedy, Romance]</td>\n",
       "    </tr>\n",
       "    <tr>\n",
       "      <th>3</th>\n",
       "      <td>4</td>\n",
       "      <td>Waiting to Exhale (1995)</td>\n",
       "      <td>[Comedy, Drama, Romance]</td>\n",
       "    </tr>\n",
       "    <tr>\n",
       "      <th>4</th>\n",
       "      <td>5</td>\n",
       "      <td>Father of the Bride Part II (1995)</td>\n",
       "      <td>[Comedy]</td>\n",
       "    </tr>\n",
       "  </tbody>\n",
       "</table>\n",
       "</div>"
      ],
      "text/plain": [
       "   movieId                               title  \\\n",
       "0        1                    Toy Story (1995)   \n",
       "1        2                      Jumanji (1995)   \n",
       "2        3             Grumpier Old Men (1995)   \n",
       "3        4            Waiting to Exhale (1995)   \n",
       "4        5  Father of the Bride Part II (1995)   \n",
       "\n",
       "                                              genres  \n",
       "0  [Adventure, Animation, Children, Comedy, Fantasy]  \n",
       "1                     [Adventure, Children, Fantasy]  \n",
       "2                                  [Comedy, Romance]  \n",
       "3                           [Comedy, Drama, Romance]  \n",
       "4                                           [Comedy]  "
      ]
     },
     "execution_count": 67,
     "metadata": {},
     "output_type": "execute_result"
    }
   ],
   "source": [
    "movies_df.head()"
   ]
  },
  {
   "cell_type": "code",
   "execution_count": 63,
   "id": "f2b80343",
   "metadata": {
    "ExecuteTime": {
     "end_time": "2024-08-25T08:51:15.074092Z",
     "start_time": "2024-08-25T08:51:15.057130Z"
    }
   },
   "outputs": [
    {
     "data": {
      "text/html": [
       "<div>\n",
       "<style scoped>\n",
       "    .dataframe tbody tr th:only-of-type {\n",
       "        vertical-align: middle;\n",
       "    }\n",
       "\n",
       "    .dataframe tbody tr th {\n",
       "        vertical-align: top;\n",
       "    }\n",
       "\n",
       "    .dataframe thead th {\n",
       "        text-align: right;\n",
       "    }\n",
       "</style>\n",
       "<table border=\"1\" class=\"dataframe\">\n",
       "  <thead>\n",
       "    <tr style=\"text-align: right;\">\n",
       "      <th></th>\n",
       "      <th>userId</th>\n",
       "      <th>movieId</th>\n",
       "      <th>rating</th>\n",
       "      <th>timestamp</th>\n",
       "    </tr>\n",
       "  </thead>\n",
       "  <tbody>\n",
       "    <tr>\n",
       "      <th>0</th>\n",
       "      <td>1</td>\n",
       "      <td>16</td>\n",
       "      <td>4.0</td>\n",
       "      <td>1217897793</td>\n",
       "    </tr>\n",
       "    <tr>\n",
       "      <th>1</th>\n",
       "      <td>1</td>\n",
       "      <td>24</td>\n",
       "      <td>1.5</td>\n",
       "      <td>1217895807</td>\n",
       "    </tr>\n",
       "    <tr>\n",
       "      <th>2</th>\n",
       "      <td>1</td>\n",
       "      <td>32</td>\n",
       "      <td>4.0</td>\n",
       "      <td>1217896246</td>\n",
       "    </tr>\n",
       "    <tr>\n",
       "      <th>3</th>\n",
       "      <td>1</td>\n",
       "      <td>47</td>\n",
       "      <td>4.0</td>\n",
       "      <td>1217896556</td>\n",
       "    </tr>\n",
       "    <tr>\n",
       "      <th>4</th>\n",
       "      <td>1</td>\n",
       "      <td>50</td>\n",
       "      <td>4.0</td>\n",
       "      <td>1217896523</td>\n",
       "    </tr>\n",
       "  </tbody>\n",
       "</table>\n",
       "</div>"
      ],
      "text/plain": [
       "   userId  movieId  rating   timestamp\n",
       "0       1       16     4.0  1217897793\n",
       "1       1       24     1.5  1217895807\n",
       "2       1       32     4.0  1217896246\n",
       "3       1       47     4.0  1217896556\n",
       "4       1       50     4.0  1217896523"
      ]
     },
     "execution_count": 63,
     "metadata": {},
     "output_type": "execute_result"
    }
   ],
   "source": [
    "ratings_df.head()"
   ]
  },
  {
   "cell_type": "code",
   "execution_count": 64,
   "id": "a5372522",
   "metadata": {
    "ExecuteTime": {
     "end_time": "2024-08-25T08:51:16.583194Z",
     "start_time": "2024-08-25T08:51:16.558101Z"
    }
   },
   "outputs": [
    {
     "data": {
      "text/html": [
       "<div>\n",
       "<style scoped>\n",
       "    .dataframe tbody tr th:only-of-type {\n",
       "        vertical-align: middle;\n",
       "    }\n",
       "\n",
       "    .dataframe tbody tr th {\n",
       "        vertical-align: top;\n",
       "    }\n",
       "\n",
       "    .dataframe thead th {\n",
       "        text-align: right;\n",
       "    }\n",
       "</style>\n",
       "<table border=\"1\" class=\"dataframe\">\n",
       "  <thead>\n",
       "    <tr style=\"text-align: right;\">\n",
       "      <th></th>\n",
       "      <th>movieId</th>\n",
       "      <th>title</th>\n",
       "      <th>genres</th>\n",
       "    </tr>\n",
       "  </thead>\n",
       "  <tbody>\n",
       "    <tr>\n",
       "      <th>0</th>\n",
       "      <td>1</td>\n",
       "      <td>Toy Story (1995)</td>\n",
       "      <td>[Adventure, Animation, Children, Comedy, Fantasy]</td>\n",
       "    </tr>\n",
       "    <tr>\n",
       "      <th>1</th>\n",
       "      <td>2</td>\n",
       "      <td>Jumanji (1995)</td>\n",
       "      <td>[Adventure, Children, Fantasy]</td>\n",
       "    </tr>\n",
       "    <tr>\n",
       "      <th>2</th>\n",
       "      <td>3</td>\n",
       "      <td>Grumpier Old Men (1995)</td>\n",
       "      <td>[Comedy, Romance]</td>\n",
       "    </tr>\n",
       "    <tr>\n",
       "      <th>3</th>\n",
       "      <td>4</td>\n",
       "      <td>Waiting to Exhale (1995)</td>\n",
       "      <td>[Comedy, Drama, Romance]</td>\n",
       "    </tr>\n",
       "    <tr>\n",
       "      <th>4</th>\n",
       "      <td>5</td>\n",
       "      <td>Father of the Bride Part II (1995)</td>\n",
       "      <td>[Comedy]</td>\n",
       "    </tr>\n",
       "  </tbody>\n",
       "</table>\n",
       "</div>"
      ],
      "text/plain": [
       "   movieId                               title  \\\n",
       "0        1                    Toy Story (1995)   \n",
       "1        2                      Jumanji (1995)   \n",
       "2        3             Grumpier Old Men (1995)   \n",
       "3        4            Waiting to Exhale (1995)   \n",
       "4        5  Father of the Bride Part II (1995)   \n",
       "\n",
       "                                              genres  \n",
       "0  [Adventure, Animation, Children, Comedy, Fantasy]  \n",
       "1                     [Adventure, Children, Fantasy]  \n",
       "2                                  [Comedy, Romance]  \n",
       "3                           [Comedy, Drama, Romance]  \n",
       "4                                           [Comedy]  "
      ]
     },
     "execution_count": 64,
     "metadata": {},
     "output_type": "execute_result"
    }
   ],
   "source": [
    "movies_df['genres'] = movies_df['genres'].apply(lambda x: x.split(\"|\"))\n",
    "movies_df.head()"
   ]
  },
  {
   "cell_type": "markdown",
   "id": "3e8e3c98",
   "metadata": {},
   "source": [
    "Now we will make columns for all genres and fill their values with 0 or 1. 1 indicates that the genre is present for that row and zero indicates otherwise."
   ]
  },
  {
   "cell_type": "code",
   "execution_count": 65,
   "id": "76dc1bcc",
   "metadata": {
    "ExecuteTime": {
     "end_time": "2024-08-25T08:51:34.188851Z",
     "start_time": "2024-08-25T08:51:34.171517Z"
    }
   },
   "outputs": [],
   "source": [
    "genres = set([g for i in movies_df.genres for g in i])"
   ]
  },
  {
   "cell_type": "code",
   "execution_count": 71,
   "id": "c43a669c",
   "metadata": {
    "ExecuteTime": {
     "end_time": "2024-08-25T08:58:13.394886Z",
     "start_time": "2024-08-25T08:58:13.382766Z"
    }
   },
   "outputs": [
    {
     "data": {
      "text/plain": [
       "0                           Toy Story (1995)\n",
       "1                             Jumanji (1995)\n",
       "2                    Grumpier Old Men (1995)\n",
       "3                   Waiting to Exhale (1995)\n",
       "4         Father of the Bride Part II (1995)\n",
       "                        ...                 \n",
       "10324          Cosmic Scrat-tastrophe (2015)\n",
       "10325             Le Grand Restaurant (1966)\n",
       "10326         A Very Murray Christmas (2015)\n",
       "10327                   The Big Short (2015)\n",
       "10328    Marco Polo: One Hundred Eyes (2015)\n",
       "Name: title, Length: 10329, dtype: object"
      ]
     },
     "execution_count": 71,
     "metadata": {},
     "output_type": "execute_result"
    }
   ],
   "source": [
    "movies_df.title"
   ]
  },
  {
   "cell_type": "code",
   "execution_count": 72,
   "id": "4c43ec25",
   "metadata": {
    "ExecuteTime": {
     "end_time": "2024-08-25T08:58:32.922856Z",
     "start_time": "2024-08-25T08:58:32.716691Z"
    }
   },
   "outputs": [],
   "source": [
    "for i in genres:\n",
    "    movies_df[i] = movies_df.genres.apply(lambda x: int(i in x))"
   ]
  },
  {
   "cell_type": "code",
   "execution_count": 73,
   "id": "256a71bf",
   "metadata": {
    "ExecuteTime": {
     "end_time": "2024-08-25T08:58:35.010495Z",
     "start_time": "2024-08-25T08:58:34.975702Z"
    }
   },
   "outputs": [
    {
     "data": {
      "text/html": [
       "<div>\n",
       "<style scoped>\n",
       "    .dataframe tbody tr th:only-of-type {\n",
       "        vertical-align: middle;\n",
       "    }\n",
       "\n",
       "    .dataframe tbody tr th {\n",
       "        vertical-align: top;\n",
       "    }\n",
       "\n",
       "    .dataframe thead th {\n",
       "        text-align: right;\n",
       "    }\n",
       "</style>\n",
       "<table border=\"1\" class=\"dataframe\">\n",
       "  <thead>\n",
       "    <tr style=\"text-align: right;\">\n",
       "      <th></th>\n",
       "      <th>Mystery</th>\n",
       "      <th>Comedy</th>\n",
       "      <th>Documentary</th>\n",
       "      <th>Western</th>\n",
       "      <th>(no genres listed)</th>\n",
       "      <th>Thriller</th>\n",
       "      <th>Horror</th>\n",
       "      <th>Action</th>\n",
       "      <th>Romance</th>\n",
       "      <th>Adventure</th>\n",
       "      <th>Fantasy</th>\n",
       "      <th>IMAX</th>\n",
       "      <th>Children</th>\n",
       "      <th>War</th>\n",
       "      <th>Animation</th>\n",
       "      <th>Crime</th>\n",
       "      <th>Musical</th>\n",
       "      <th>Sci-Fi</th>\n",
       "      <th>Film-Noir</th>\n",
       "      <th>Drama</th>\n",
       "    </tr>\n",
       "  </thead>\n",
       "  <tbody>\n",
       "    <tr>\n",
       "      <th>0</th>\n",
       "      <td>0</td>\n",
       "      <td>1</td>\n",
       "      <td>0</td>\n",
       "      <td>0</td>\n",
       "      <td>0</td>\n",
       "      <td>0</td>\n",
       "      <td>0</td>\n",
       "      <td>0</td>\n",
       "      <td>0</td>\n",
       "      <td>1</td>\n",
       "      <td>1</td>\n",
       "      <td>0</td>\n",
       "      <td>1</td>\n",
       "      <td>0</td>\n",
       "      <td>1</td>\n",
       "      <td>0</td>\n",
       "      <td>0</td>\n",
       "      <td>0</td>\n",
       "      <td>0</td>\n",
       "      <td>0</td>\n",
       "    </tr>\n",
       "    <tr>\n",
       "      <th>1</th>\n",
       "      <td>0</td>\n",
       "      <td>0</td>\n",
       "      <td>0</td>\n",
       "      <td>0</td>\n",
       "      <td>0</td>\n",
       "      <td>0</td>\n",
       "      <td>0</td>\n",
       "      <td>0</td>\n",
       "      <td>0</td>\n",
       "      <td>1</td>\n",
       "      <td>1</td>\n",
       "      <td>0</td>\n",
       "      <td>1</td>\n",
       "      <td>0</td>\n",
       "      <td>0</td>\n",
       "      <td>0</td>\n",
       "      <td>0</td>\n",
       "      <td>0</td>\n",
       "      <td>0</td>\n",
       "      <td>0</td>\n",
       "    </tr>\n",
       "    <tr>\n",
       "      <th>2</th>\n",
       "      <td>0</td>\n",
       "      <td>1</td>\n",
       "      <td>0</td>\n",
       "      <td>0</td>\n",
       "      <td>0</td>\n",
       "      <td>0</td>\n",
       "      <td>0</td>\n",
       "      <td>0</td>\n",
       "      <td>1</td>\n",
       "      <td>0</td>\n",
       "      <td>0</td>\n",
       "      <td>0</td>\n",
       "      <td>0</td>\n",
       "      <td>0</td>\n",
       "      <td>0</td>\n",
       "      <td>0</td>\n",
       "      <td>0</td>\n",
       "      <td>0</td>\n",
       "      <td>0</td>\n",
       "      <td>0</td>\n",
       "    </tr>\n",
       "    <tr>\n",
       "      <th>3</th>\n",
       "      <td>0</td>\n",
       "      <td>1</td>\n",
       "      <td>0</td>\n",
       "      <td>0</td>\n",
       "      <td>0</td>\n",
       "      <td>0</td>\n",
       "      <td>0</td>\n",
       "      <td>0</td>\n",
       "      <td>1</td>\n",
       "      <td>0</td>\n",
       "      <td>0</td>\n",
       "      <td>0</td>\n",
       "      <td>0</td>\n",
       "      <td>0</td>\n",
       "      <td>0</td>\n",
       "      <td>0</td>\n",
       "      <td>0</td>\n",
       "      <td>0</td>\n",
       "      <td>0</td>\n",
       "      <td>1</td>\n",
       "    </tr>\n",
       "    <tr>\n",
       "      <th>4</th>\n",
       "      <td>0</td>\n",
       "      <td>1</td>\n",
       "      <td>0</td>\n",
       "      <td>0</td>\n",
       "      <td>0</td>\n",
       "      <td>0</td>\n",
       "      <td>0</td>\n",
       "      <td>0</td>\n",
       "      <td>0</td>\n",
       "      <td>0</td>\n",
       "      <td>0</td>\n",
       "      <td>0</td>\n",
       "      <td>0</td>\n",
       "      <td>0</td>\n",
       "      <td>0</td>\n",
       "      <td>0</td>\n",
       "      <td>0</td>\n",
       "      <td>0</td>\n",
       "      <td>0</td>\n",
       "      <td>0</td>\n",
       "    </tr>\n",
       "  </tbody>\n",
       "</table>\n",
       "</div>"
      ],
      "text/plain": [
       "   Mystery  Comedy  Documentary  Western  (no genres listed)  Thriller  \\\n",
       "0        0       1            0        0                   0         0   \n",
       "1        0       0            0        0                   0         0   \n",
       "2        0       1            0        0                   0         0   \n",
       "3        0       1            0        0                   0         0   \n",
       "4        0       1            0        0                   0         0   \n",
       "\n",
       "   Horror  Action  Romance  Adventure  Fantasy  IMAX  Children  War  \\\n",
       "0       0       0        0          1        1     0         1    0   \n",
       "1       0       0        0          1        1     0         1    0   \n",
       "2       0       0        1          0        0     0         0    0   \n",
       "3       0       0        1          0        0     0         0    0   \n",
       "4       0       0        0          0        0     0         0    0   \n",
       "\n",
       "   Animation  Crime  Musical  Sci-Fi  Film-Noir  Drama  \n",
       "0          1      0        0       0          0      0  \n",
       "1          0      0        0       0          0      0  \n",
       "2          0      0        0       0          0      0  \n",
       "3          0      0        0       0          0      1  \n",
       "4          0      0        0       0          0      0  "
      ]
     },
     "execution_count": 73,
     "metadata": {},
     "output_type": "execute_result"
    }
   ],
   "source": [
    "movie_genre = movies_df.drop(['movieId', 'title', 'genres'], axis=1)\n",
    "movie_genre.head()"
   ]
  },
  {
   "cell_type": "code",
   "execution_count": 74,
   "id": "48c0f257",
   "metadata": {
    "ExecuteTime": {
     "end_time": "2024-08-25T08:59:06.122324Z",
     "start_time": "2024-08-25T08:59:06.114315Z"
    }
   },
   "outputs": [
    {
     "data": {
      "text/plain": [
       "20"
      ]
     },
     "execution_count": 74,
     "metadata": {},
     "output_type": "execute_result"
    }
   ],
   "source": [
    "# all genres are present as features\n",
    "len(movie_genre.columns)"
   ]
  },
  {
   "cell_type": "code",
   "execution_count": 75,
   "id": "5e8ad0e3",
   "metadata": {
    "ExecuteTime": {
     "end_time": "2024-08-25T08:59:07.463065Z",
     "start_time": "2024-08-25T08:59:07.453203Z"
    }
   },
   "outputs": [
    {
     "data": {
      "text/plain": [
       "(10329, 20)"
      ]
     },
     "execution_count": 75,
     "metadata": {},
     "output_type": "execute_result"
    }
   ],
   "source": [
    "movie_genre.shape"
   ]
  },
  {
   "cell_type": "markdown",
   "id": "db756639",
   "metadata": {
    "ExecuteTime": {
     "end_time": "2024-08-24T15:16:40.476509Z",
     "start_time": "2024-08-24T15:16:40.464204Z"
    }
   },
   "source": [
    "using cosine similarity to find similarity between genres"
   ]
  },
  {
   "cell_type": "code",
   "execution_count": 76,
   "id": "cfa29949",
   "metadata": {
    "ExecuteTime": {
     "end_time": "2024-08-25T08:59:12.189545Z",
     "start_time": "2024-08-25T08:59:11.754278Z"
    }
   },
   "outputs": [
    {
     "data": {
      "text/plain": [
       "(10329, 10329)"
      ]
     },
     "execution_count": 76,
     "metadata": {},
     "output_type": "execute_result"
    }
   ],
   "source": [
    "from sklearn.metrics.pairwise import cosine_similarity\n",
    "\n",
    "cosine_sim = cosine_similarity(movie_genre, movie_genre)\n",
    "cosine_sim.shape"
   ]
  },
  {
   "cell_type": "code",
   "execution_count": 77,
   "id": "f0f35204",
   "metadata": {
    "ExecuteTime": {
     "end_time": "2024-08-25T08:59:14.954734Z",
     "start_time": "2024-08-25T08:59:14.944576Z"
    }
   },
   "outputs": [
    {
     "data": {
      "text/plain": [
       "array([[1.        , 0.77459667, 0.31622777, ..., 0.4472136 , 0.        ,\n",
       "        0.        ],\n",
       "       [0.77459667, 1.        , 0.        , ..., 0.        , 0.        ,\n",
       "        0.        ],\n",
       "       [0.31622777, 0.        , 1.        , ..., 0.70710678, 0.        ,\n",
       "        0.        ],\n",
       "       ...,\n",
       "       [0.4472136 , 0.        , 0.70710678, ..., 1.        , 0.        ,\n",
       "        0.        ],\n",
       "       [0.        , 0.        , 0.        , ..., 0.        , 1.        ,\n",
       "        0.        ],\n",
       "       [0.        , 0.        , 0.        , ..., 0.        , 0.        ,\n",
       "        1.        ]])"
      ]
     },
     "execution_count": 77,
     "metadata": {},
     "output_type": "execute_result"
    }
   ],
   "source": [
    "cosine_sim"
   ]
  },
  {
   "cell_type": "code",
   "execution_count": 78,
   "id": "8f04ae2a",
   "metadata": {
    "ExecuteTime": {
     "end_time": "2024-08-25T08:59:18.033684Z",
     "start_time": "2024-08-25T08:59:18.021502Z"
    }
   },
   "outputs": [
    {
     "data": {
      "text/plain": [
       "array([1.        , 0.77459667, 0.31622777, ..., 0.4472136 , 0.        ,\n",
       "       0.        ])"
      ]
     },
     "execution_count": 78,
     "metadata": {},
     "output_type": "execute_result"
    }
   ],
   "source": [
    "cosine_sim[0]"
   ]
  },
  {
   "cell_type": "markdown",
   "id": "ddd7ed65",
   "metadata": {},
   "source": [
    "After passing the movie_genre dataframe into the cosine_similarity() function, we get a cosine similarity with shape (number_of_movies, number_of_movie)\n",
    "\n",
    "The matrix is populated with values between 0 and 1 which represent the degree of similarity between movies along x and y axes."
   ]
  },
  {
   "cell_type": "markdown",
   "id": "ba219549",
   "metadata": {},
   "source": [
    "**CREATING A MOVIE FINDER FUNCTION**"
   ]
  },
  {
   "cell_type": "markdown",
   "id": "cdc8bf0c",
   "metadata": {},
   "source": [
    "If we want to get recommendations for movies that are similar to Avatar,  we need to know the exact title of a movie in our dataset. In our dataset, Avatar is actually named as 'Avatar (2009)'. In any case that the movie title spelled wrongly, or we forgot to add the release year, our recommender system will not be able to identify which movies we are interested in.\n",
    "\n",
    "TO make our recommender more user-friendly, we can use a Python package called fuzzywuzzy. which will find the most similar title to the string you pass in."
   ]
  },
  {
   "cell_type": "code",
   "execution_count": 79,
   "id": "ff6b6eaa",
   "metadata": {
    "ExecuteTime": {
     "end_time": "2024-08-25T08:59:25.244190Z",
     "start_time": "2024-08-25T08:59:25.225274Z"
    }
   },
   "outputs": [],
   "source": [
    "from fuzzywuzzy import process"
   ]
  },
  {
   "cell_type": "code",
   "execution_count": 80,
   "id": "811cb1a9",
   "metadata": {
    "ExecuteTime": {
     "end_time": "2024-08-25T08:59:26.826788Z",
     "start_time": "2024-08-25T08:59:26.820035Z"
    }
   },
   "outputs": [],
   "source": [
    "def title_finder(title):\n",
    "    all_titles = movies_df['title'].tolist()\n",
    "    closest_match = process.extractOne(title, all_titles)\n",
    "    return closest_match[0]"
   ]
  },
  {
   "cell_type": "code",
   "execution_count": 83,
   "id": "23dab9bf",
   "metadata": {
    "ExecuteTime": {
     "end_time": "2024-08-25T08:59:57.875249Z",
     "start_time": "2024-08-25T08:59:51.176762Z"
    }
   },
   "outputs": [
    {
     "data": {
      "text/plain": [
       "'Spider-Man (2002)'"
      ]
     },
     "execution_count": 83,
     "metadata": {},
     "output_type": "execute_result"
    }
   ],
   "source": [
    "# if i try to find a title of a movie\n",
    "title = title_finder('spiderman')\n",
    "title"
   ]
  },
  {
   "cell_type": "code",
   "execution_count": 84,
   "id": "74b725d9",
   "metadata": {
    "ExecuteTime": {
     "end_time": "2024-08-25T08:59:58.906182Z",
     "start_time": "2024-08-25T08:59:58.895215Z"
    }
   },
   "outputs": [
    {
     "data": {
      "text/plain": [
       "title\n",
       "Toy Story (1995)                      0\n",
       "Jumanji (1995)                        1\n",
       "Grumpier Old Men (1995)               2\n",
       "Waiting to Exhale (1995)              3\n",
       "Father of the Bride Part II (1995)    4\n",
       "dtype: int64"
      ]
     },
     "execution_count": 84,
     "metadata": {},
     "output_type": "execute_result"
    }
   ],
   "source": [
    "# we are going to create a movie index finder here\n",
    "movie_indexer = pd.Series(movies_df.title.index, index=movies_df.title)\n",
    "movie_indexer.head()"
   ]
  },
  {
   "cell_type": "code",
   "execution_count": 85,
   "id": "eccdf753",
   "metadata": {
    "ExecuteTime": {
     "end_time": "2024-08-25T09:00:10.492154Z",
     "start_time": "2024-08-25T09:00:10.482603Z"
    }
   },
   "outputs": [
    {
     "name": "stdout",
     "output_type": "stream",
     "text": [
      "the index for the movie Spider-Man (2002) is: 4108\n"
     ]
    }
   ],
   "source": [
    "\n",
    "indx = movie_indexer[title]\n",
    "print(f'the index for the movie {title} is: {indx}')"
   ]
  },
  {
   "cell_type": "code",
   "execution_count": 86,
   "id": "7c822581",
   "metadata": {
    "ExecuteTime": {
     "end_time": "2024-08-25T09:00:17.366363Z",
     "start_time": "2024-08-25T09:00:17.343294Z"
    }
   },
   "outputs": [
    {
     "data": {
      "text/plain": [
       "[(426, 1.0), (646, 1.0), (690, 1.0), (914, 1.0), (916, 1.0)]"
      ]
     },
     "execution_count": 86,
     "metadata": {},
     "output_type": "execute_result"
    }
   ],
   "source": [
    "# now let us get the top 10 movies similar to Spider-Man (2002) \n",
    "similar_movies = sorted(list(enumerate(cosine_sim[indx])), key=lambda x:  x[1], reverse=True)\n",
    "\n",
    "# removig already watched movie\n",
    "filtered = []\n",
    "for i in similar_movies:\n",
    "    if i[0] != indx:\n",
    "        filtered.append(i)\n",
    "        \n",
    "filtered[:5]"
   ]
  },
  {
   "cell_type": "code",
   "execution_count": 88,
   "id": "33fb69a6",
   "metadata": {
    "ExecuteTime": {
     "end_time": "2024-08-25T09:00:47.786362Z",
     "start_time": "2024-08-25T09:00:47.774052Z"
    }
   },
   "outputs": [
    {
     "data": {
      "text/plain": [
       "[646,\n",
       " 690,\n",
       " 914,\n",
       " 916,\n",
       " 1102,\n",
       " 1115,\n",
       " 1243,\n",
       " 1271,\n",
       " 2329,\n",
       " 2876,\n",
       " 3632,\n",
       " 4059,\n",
       " 4680,\n",
       " 5400,\n",
       " 5732,\n",
       " 6662,\n",
       " 6684,\n",
       " 7833,\n",
       " 7845,\n",
       " 8033]"
      ]
     },
     "execution_count": 88,
     "metadata": {},
     "output_type": "execute_result"
    }
   ],
   "source": [
    "# getting top n similar movies\n",
    "n = 20\n",
    "top_similar_movies = filtered[1: n+1]\n",
    "top_similar_movies = [i[0] for i in top_similar_movies]\n",
    "top_similar_movies"
   ]
  },
  {
   "cell_type": "code",
   "execution_count": 89,
   "id": "ef9e053f",
   "metadata": {
    "ExecuteTime": {
     "end_time": "2024-08-25T09:00:52.577519Z",
     "start_time": "2024-08-25T09:00:52.570299Z"
    }
   },
   "outputs": [
    {
     "name": "stdout",
     "output_type": "stream",
     "text": [
      "Because you wantched Spider-Man (2002):\n",
      "\n",
      "Independence Day (a.k.a. ID4) (1996)\n",
      "Escape from L.A. (1996)\n",
      "Abyss, The (1989)\n",
      "Escape from New York (1981)\n",
      "Star Trek: First Contact (1996)\n",
      "Star Trek II: The Wrath of Khan (1982)\n",
      "Lost World: Jurassic Park, The (1997)\n",
      "Spawn (1997)\n",
      "Total Recall (1990)\n",
      "Moonraker (1979)\n",
      "Jurassic Park III (2001)\n",
      "Clockstoppers (2002)\n",
      "X2: X-Men United (2003)\n",
      "You Only Live Twice (1967)\n",
      "I, Robot (2004)\n",
      "War of the Worlds (2005)\n",
      "Stealth (2005)\n",
      "Death Race (2008)\n",
      "Babylon A.D. (2008)\n",
      "Street Fighter: The Legend of Chun-Li (2009)\n"
     ]
    }
   ],
   "source": [
    "print(f'Because you wantched {title}:')\n",
    "print()\n",
    "for i in movies_df.title.iloc[top_similar_movies]:\n",
    "    print(i)"
   ]
  },
  {
   "cell_type": "markdown",
   "id": "667edb6d",
   "metadata": {},
   "source": [
    "**Now let us put all of this in a codes in one function**\n"
   ]
  },
  {
   "cell_type": "code",
   "execution_count": 90,
   "id": "db33896c",
   "metadata": {
    "ExecuteTime": {
     "end_time": "2024-08-25T09:01:00.255694Z",
     "start_time": "2024-08-25T09:01:00.248127Z"
    }
   },
   "outputs": [],
   "source": [
    "def recommender(title_string, n_recommendation=10):\n",
    "    \"\"\"\n",
    "    A content based recommender.\n",
    "    \n",
    "    Args:\n",
    "        title_string: movie title \n",
    "        n_recommendation: number of recommendations to display\n",
    "    \"\"\"\n",
    "    # using the title finder to get correct match for title\n",
    "    title = title_finder(title_string)\n",
    "    \n",
    "    # getting the index of the title\n",
    "    indx = movie_indexer[title]\n",
    "    \n",
    "    # finding movies that are similar to the watched movie\n",
    "    similar_movies = sorted(list(enumerate(cosine_sim[indx])), key=lambda x:x[1], reverse=True)\n",
    "    \n",
    "    # romving the already watched movie from the list\n",
    "    filtered = []\n",
    "    for i in similar_movies:\n",
    "        if i[0] != indx:\n",
    "            filtered.append(i)\n",
    "    \n",
    "    # getting and displaying the top N recommended movies\n",
    "    top_similar_movies = [i[0] for i in filtered]\n",
    "    top_similar_movies = top_similar_movies[1: n_recommendation+1]\n",
    "    top_similar_movies = movies_df['title'][top_similar_movies]\n",
    "    print(f\"Because you watched {title}: \")\n",
    "    print()\n",
    "    for i in top_similar_movies:\n",
    "        print(i)"
   ]
  },
  {
   "cell_type": "code",
   "execution_count": 91,
   "id": "93bb6dfc",
   "metadata": {
    "ExecuteTime": {
     "end_time": "2024-08-25T09:01:08.235109Z",
     "start_time": "2024-08-25T09:01:03.115301Z"
    }
   },
   "outputs": [
    {
     "name": "stdout",
     "output_type": "stream",
     "text": [
      "Because you watched Spawn (1997): \n",
      "\n",
      "Independence Day (a.k.a. ID4) (1996)\n",
      "Escape from L.A. (1996)\n",
      "Abyss, The (1989)\n",
      "Escape from New York (1981)\n",
      "Star Trek: First Contact (1996)\n",
      "Star Trek II: The Wrath of Khan (1982)\n",
      "Lost World: Jurassic Park, The (1997)\n",
      "Total Recall (1990)\n",
      "Moonraker (1979)\n",
      "Jurassic Park III (2001)\n"
     ]
    }
   ],
   "source": [
    "# getting recommedations for the movie titled \"Spawn (1997)\"\n",
    "# by default, number of recommended movies are 10\n",
    "# user can also specify number of movies\n",
    "recommender('spawn')"
   ]
  },
  {
   "cell_type": "code",
   "execution_count": null,
   "id": "7a530197",
   "metadata": {},
   "outputs": [],
   "source": []
  }
 ],
 "metadata": {
  "kernelspec": {
   "display_name": "Python 3 (ipykernel)",
   "language": "python",
   "name": "python3"
  },
  "language_info": {
   "codemirror_mode": {
    "name": "ipython",
    "version": 3
   },
   "file_extension": ".py",
   "mimetype": "text/x-python",
   "name": "python",
   "nbconvert_exporter": "python",
   "pygments_lexer": "ipython3",
   "version": "3.11.5"
  },
  "toc": {
   "base_numbering": 1,
   "nav_menu": {},
   "number_sections": true,
   "sideBar": true,
   "skip_h1_title": false,
   "title_cell": "Table of Contents",
   "title_sidebar": "Contents",
   "toc_cell": false,
   "toc_position": {},
   "toc_section_display": true,
   "toc_window_display": false
  },
  "varInspector": {
   "cols": {
    "lenName": 16,
    "lenType": 16,
    "lenVar": 40
   },
   "kernels_config": {
    "python": {
     "delete_cmd_postfix": "",
     "delete_cmd_prefix": "del ",
     "library": "var_list.py",
     "varRefreshCmd": "print(var_dic_list())"
    },
    "r": {
     "delete_cmd_postfix": ") ",
     "delete_cmd_prefix": "rm(",
     "library": "var_list.r",
     "varRefreshCmd": "cat(var_dic_list()) "
    }
   },
   "types_to_exclude": [
    "module",
    "function",
    "builtin_function_or_method",
    "instance",
    "_Feature"
   ],
   "window_display": false
  }
 },
 "nbformat": 4,
 "nbformat_minor": 5
}
